{
 "cells": [
  {
   "cell_type": "markdown",
   "metadata": {},
   "source": [
    "---\n",
    "title: APCSA AP Practice Quiz\n",
    "layout: base\n",
    "description: Compiling all the units together \n",
    "courses: { csa: {week: 17} }\n",
    "type: tangibles\n",
    "---"
   ]
  },
  {
   "cell_type": "markdown",
   "metadata": {},
   "source": [
    "# Question 1"
   ]
  },
  {
   "cell_type": "code",
   "execution_count": 10,
   "metadata": {
    "vscode": {
     "languageId": "java"
    }
   },
   "outputs": [
    {
     "name": "stdout",
     "output_type": "stream",
     "text": [
      "The number of divisors for 12 is: 6\n"
     ]
    }
   ],
   "source": [
    "public static int numDivisors (int inputVal) \n",
    "{\n",
    "    int count = 0;\n",
    "    for (int k = 1; k <= inputVal; k++)\n",
    "    {\n",
    "      if (inputVal % k == 0)\n",
    "      {\n",
    "        count++;\n",
    "      }\n",
    "    }\n",
    "    return count;\n",
    "}\n",
    "\n",
    "int result = numDivisors(12);\n",
    "System.out.println(\"The number of divisors for 12 is: \" + result);"
   ]
  },
  {
   "cell_type": "markdown",
   "metadata": {},
   "source": [
    "# Question 2"
   ]
  },
  {
   "cell_type": "code",
   "execution_count": 13,
   "metadata": {
    "vscode": {
     "languageId": "java"
    }
   },
   "outputs": [
    {
     "name": "stdout",
     "output_type": "stream",
     "text": [
      "--*\n",
      "-**\n",
      "***\n"
     ]
    }
   ],
   "source": [
    "for (int r = 3; r > 0; r--)\n",
    "{\n",
    "  int c;\n",
    "  for (c = 1; c < r; c++)\n",
    "  {\n",
    "    System.out.print(\"-\");\n",
    "  }\n",
    "  for (c = r; c <= 3; c++)\n",
    "  {\n",
    "    System.out.print(\"*\");\n",
    "  }\n",
    "  System.out.println();\n",
    "}"
   ]
  },
  {
   "cell_type": "markdown",
   "metadata": {},
   "source": [
    "# Question 4"
   ]
  },
  {
   "cell_type": "code",
   "execution_count": 17,
   "metadata": {
    "vscode": {
     "languageId": "java"
    }
   },
   "outputs": [],
   "source": [
    "private int [] arr;\n",
    "\n",
    "public int findMax()\n",
    "{\n",
    "    int maxVal = 0;\n",
    "    for (int val : arr)\n",
    "    {\n",
    "        if (val < maxVal)\n",
    "        {\n",
    "            maxVal = val;\n",
    "        }\n",
    "    }\n",
    "    return maxVal;\n",
    "}"
   ]
  },
  {
   "cell_type": "markdown",
   "metadata": {},
   "source": [
    "# Question 15"
   ]
  },
  {
   "cell_type": "code",
   "execution_count": 11,
   "metadata": {
    "vscode": {
     "languageId": "java"
    }
   },
   "outputs": [
    {
     "name": "stdout",
     "output_type": "stream",
     "text": [
      "401\n"
     ]
    }
   ],
   "source": [
    "System.out.println(404/10*10+1)"
   ]
  }
 ],
 "metadata": {
  "kernelspec": {
   "display_name": "Java",
   "language": "java",
   "name": "java"
  },
  "language_info": {
   "codemirror_mode": "java",
   "file_extension": ".jshell",
   "mimetype": "text/x-java-source",
   "name": "Java",
   "pygments_lexer": "java",
   "version": "20.0.2+9"
  }
 },
 "nbformat": 4,
 "nbformat_minor": 2
}
