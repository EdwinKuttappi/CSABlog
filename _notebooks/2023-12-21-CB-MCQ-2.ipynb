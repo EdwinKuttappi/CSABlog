{
 "cells": [
  {
   "cell_type": "markdown",
   "metadata": {},
   "source": [
    "---\n",
    "title: APCSA AP Practice Quiz\n",
    "layout: default\n",
    "description: Compiling all the units together \n",
    "courses: { csa: {week: 17} }\n",
    "type: tangibles\n",
    "---"
   ]
  },
  {
   "cell_type": "markdown",
   "metadata": {},
   "source": [
    "# Question 1"
   ]
  },
  {
   "cell_type": "code",
   "execution_count": 10,
   "metadata": {
    "vscode": {
     "languageId": "java"
    }
   },
   "outputs": [
    {
     "name": "stdout",
     "output_type": "stream",
     "text": [
      "The number of divisors for 12 is: 6\n"
     ]
    }
   ],
   "source": [
    "public static int numDivisors (int inputVal) \n",
    "{\n",
    "    int count = 0;\n",
    "    for (int k = 1; k <= inputVal; k++)\n",
    "    {\n",
    "      if (inputVal % k == 0)\n",
    "      {\n",
    "        count++;\n",
    "      }\n",
    "    }\n",
    "    return count;\n",
    "}\n",
    "\n",
    "int result = numDivisors(12);\n",
    "System.out.println(\"The number of divisors for 12 is: \" + result);"
   ]
  },
  {
   "cell_type": "markdown",
   "metadata": {},
   "source": [
    "# Question 2"
   ]
  },
  {
   "cell_type": "code",
   "execution_count": 13,
   "metadata": {
    "vscode": {
     "languageId": "java"
    }
   },
   "outputs": [
    {
     "name": "stdout",
     "output_type": "stream",
     "text": [
      "--*\n",
      "-**\n",
      "***\n"
     ]
    }
   ],
   "source": [
    "for (int r = 3; r > 0; r--)\n",
    "{\n",
    "  int c;\n",
    "  for (c = 1; c < r; c++)\n",
    "  {\n",
    "    System.out.print(\"-\");\n",
    "  }\n",
    "  for (c = r; c <= 3; c++)\n",
    "  {\n",
    "    System.out.print(\"*\");\n",
    "  }\n",
    "  System.out.println();\n",
    "}"
   ]
  },
  {
   "cell_type": "markdown",
   "metadata": {},
   "source": [
    "# Question 7"
   ]
  },
  {
   "cell_type": "code",
   "execution_count": 6,
   "metadata": {
    "vscode": {
     "languageId": "java"
    }
   },
   "outputs": [
    {
     "name": "stdout",
     "output_type": "stream",
     "text": [
      "2 4 6 \n",
      "2 4 6 \n",
      "4 6 \n",
      "4 6 \n",
      "6 \n",
      "6 \n"
     ]
    }
   ],
   "source": [
    "for (int outer = 1; outer <= 6; outer++)\n",
    "{\n",
    "    for (int inner = outer; inner <= 6; inner++)\n",
    "    {\n",
    "        if (inner % 2 == 0)\n",
    "        {\n",
    "            System.out.print(inner + \" \");\n",
    "        }\n",
    "    }\n",
    "    System.out.println();\n",
    "}"
   ]
  },
  {
   "cell_type": "markdown",
   "metadata": {},
   "source": [
    "# Question 13"
   ]
  },
  {
   "cell_type": "code",
   "execution_count": 18,
   "metadata": {
    "vscode": {
     "languageId": "java"
    }
   },
   "outputs": [],
   "source": [
    "private int[] numbers;\n",
    "\n",
    "public void mystery(int x) {\n",
    "    for (int k = x; k < numbers.length; k = k + x) {\n",
    "        numbers[k] = numbers[k - 1] + x;\n",
    "    }\n",
    "}"
   ]
  },
  {
   "cell_type": "markdown",
   "metadata": {},
   "source": [
    "# Question 15"
   ]
  },
  {
   "cell_type": "code",
   "execution_count": 11,
   "metadata": {
    "vscode": {
     "languageId": "java"
    }
   },
   "outputs": [
    {
     "name": "stdout",
     "output_type": "stream",
     "text": [
      "401\n"
     ]
    }
   ],
   "source": [
    "System.out.println(404/10*10+1)"
   ]
  },
  {
   "cell_type": "markdown",
   "metadata": {},
   "source": [
    "# Question 22"
   ]
  },
  {
   "cell_type": "markdown",
   "metadata": {},
   "source": [
    "# Question 25"
   ]
  },
  {
   "cell_type": "code",
   "execution_count": 21,
   "metadata": {
    "vscode": {
     "languageId": "java"
    }
   },
   "outputs": [
    {
     "name": "stdout",
     "output_type": "stream",
     "text": [
      "10\n"
     ]
    }
   ],
   "source": [
    "int count = 0;\n",
    "for (int x = 0; x < 4; x++)\n",
    "{\n",
    "    for (int y = x; y < 4; y++)\n",
    "    {\n",
    "        count++;\n",
    "    }\n",
    "}\n",
    "System.out.println(count)"
   ]
  },
  {
   "cell_type": "markdown",
   "metadata": {},
   "source": [
    "# Question 34"
   ]
  },
  {
   "cell_type": "code",
   "execution_count": 22,
   "metadata": {
    "vscode": {
     "languageId": "java"
    }
   },
   "outputs": [],
   "source": [
    "private List<String> listOfWords;\n",
    "public String wordsWithCommas()\n",
    "{\n",
    "    String result = \"(\";\n",
    "    int sizeofList = listOfWords.size();\n",
    "    for (int k = 0; k < sizeOfList; k++)\n",
    "    {\n",
    "        result = result + listOfWords.get(k);\n",
    "    }\n",
    "    if (k != 0)\n",
    "    {\n",
    "        result = result + \", \";\n",
    "    }\n",
    "    result = result + \"} \";\n",
    "    return result;\n",
    "}"
   ]
  },
  {
   "cell_type": "markdown",
   "metadata": {},
   "source": [
    "# Corrections\n",
    "\n",
    "## Question 4\n",
    "Explanation for Wrong Answer: B, Since the enhanced for loop checks all elements in arr, if the largest value was non-negative and occurred at arr[arr.length - 1], the algorithm would check this element and assign it to maxVal.\n",
    "\n",
    "Explanation for Correct Answer: C Since maxVal is initialized to a value that is greater than all values in arr, maxVal will never be updated and 0 will be returned. To correct this, maxVal could be initialized to the first element in arr or initialized to Integer.MIN_VALUE."
   ]
  },
  {
   "cell_type": "markdown",
   "metadata": {},
   "source": [
    "## Question 5\n",
    "Explanation for Wrong Answer: D, The value of (x || y) could be true if x is false and y is true, however, the value of (x || y) && x would evaluate to false in this case. Therefore, these statements are not equivalent.\n",
    "\n",
    "Explanation for Correct Answer: A, For the expression to evaluate to true, the expressions on either side of the && operator must be true. If x is true then x || y is true regardless of the value of y, meaning (x || y) && x evaluates to true. If x is false, the expression evaluates to false regardless of the value of (x || y)."
   ]
  },
  {
   "cell_type": "markdown",
   "metadata": {},
   "source": [
    "## Question 9\n",
    "Explanation for Wrong Answer: A, This would result in an integer between 0 and 10 inclusive, since (int)(Math.random() *6) generates a single integer between 0 and 5 inclusive which is then multiplied by 2. Multiplying by 2 does not represent two independent random numbers being generated.\n",
    "\n",
    "Explanation for Correct Answer: E, The call Math.random() will produce a double between 0 and 1, not including 1. To generate a random number in the range of 1 to 6, the call Math.random() needs to be multiplied by the number of integers you want to generate, in this case 6, giving us Math.random() * 6. This will result in a double between 0 and 6, not including 6. If we type cast this to an int, as in (int)(Math.random() * 6), the result will be an integer between 0 and 5 inclusive. Adding 1 will adjust the range to 1 to 6 inclusive, as in (int)(Math.random() * 6) + 1. This expression will simulate the rolling of one number cube. Since each roll is independent, to simulate rolling two number cubes, we need to use this expression twice which simplifies to 2 + (int)(Math.random() * 6) + (int)(Math.random() * 6)."
   ]
  },
  {
   "cell_type": "markdown",
   "metadata": {},
   "source": [
    "## Question 13\n",
    "Explanation for Wrong Answer: E, This would be the result if the code segment in the for loop was changed to numbers[k-1] = numbers[k-1] + 3.\n",
    "\n",
    "Explanation for Correct Answer: A, The values of the loop control variable k starts at 1 and is incremented by 3 as long as k is less than numbers.length. As a result, k will have the values 1, 4, 7 and then when it becomes 10, the loop will end. Only the values in numbers at indexes 1, 4, and 7 will be updated to the value of the sum of the element at the index that is one less than k (the element before the one being updated) and 3. So, numbers[1] will be assigned the value of numbers[0] + 3 or 20, numbers[4] will be assigned the value of numbers[3] + 3 or 45, and numbers[7] will be assigned the value of numbers[6] + 3 or 51. All other values will be unchanged."
   ]
  },
  {
   "cell_type": "markdown",
   "metadata": {},
   "source": [
    "## Question 16\n",
    "Explanation for Wrong Answer: A, The largest value in the two-dimensional array is stored in found, but result is returned.\n",
    "\n",
    "Explanation for Correct Answer: E, Prior to the start of the nested for loops, the value of found is initialized to the element at row 0, column 0 in values and result is initialized to 0.The outer for loop iterates across all rows in values. The inner for loop iterates across the column indices of each row. When an element is located in the two-dimensional array that is larger than the current value stored in found, then this value is assigned to found and the column index is assigned to result. When the nested loop structure stops executing, the largest element in values is stored in found and the column in which that element was located is stored in result.\n"
   ]
  },
  {
   "cell_type": "markdown",
   "metadata": {},
   "source": [
    "## Question 24\n",
    "Explanation for Wrong Answer: B, Choice I will cause a compiler error if added to the SomeMethods class because it has the same method signature as public void one (int first), since it has the same name (one) and each parameter list consists of a single int parameter. Choice III can be added to the SomeMethods class because there are three int parameters and no other method named one has three int parameters.\n",
    "\n",
    "Explanation for Correct Answer: D, A method signature consists of the method name and the ordered list of parameter types. Choice I will cause a compiler error if added to the SomeMethods class because it has the same method signature as public void one (int first), since it has the same name (one) and each parameter list consists of a single int parameter. Choice II can be added to the SomeMethods class because, although it has the same name (one), the parameter list has the types String, int which has a different order than the method public void one (int first, String second). Choice III can be added to the SomeMethods class because there are three int parameters and no other method named one has three int parameters."
   ]
  },
  {
   "cell_type": "markdown",
   "metadata": {},
   "source": [
    "## Question 27\n",
    "Explanation for Wrong Answer: D, This would be the result if we were finding the largest element instead of the smallest element and moving it into its proper sorted position.\n",
    "\n",
    "Explanation for Correct Answer: B, The selection sort algorithm shown looks for the smallest value in the elements ranging from index j to the end and swaps the smallest value with the value at position j. In the first pass, 1 is the smallest element from position j = 0 to the end of the array, so it is swapped with 6."
   ]
  },
  {
   "cell_type": "markdown",
   "metadata": {},
   "source": [
    "## Question 34\n",
    "Explanation for Wrong Answer: A, List is an interface, which an ArrayList implements. Please note that List is no longer tested as part of the AP CSA exam and ArrayList will be used instead. The size of an ArrayList is found by calling the method size without subtracting 1. Subtracting 1 would cause the last element in the list to be skipped. We want to avoid adding a comma at the end of the list of words not after the first element, so the boolean condition should be k != sizeOfList – 1.\n",
    "\n",
    "Explanation for Correct Answer: D, List is an interface, which an ArrayList implements. Please note that List is no longer tested as part of the AP CSA exam and ArrayList will be used instead. To determine the size of an ArrayList we need to call the method size().   Each word will be separated by a comma, but no comma should appear after the last element in the list. Therefore, a comma is added as long as k does not equal the last index, sizeOfList – 1, since list indices start at 0."
   ]
  },
  {
   "cell_type": "markdown",
   "metadata": {},
   "source": [
    "# Reflection"
   ]
  }
 ],
 "metadata": {
  "kernelspec": {
   "display_name": "Java",
   "language": "java",
   "name": "java"
  },
  "language_info": {
   "codemirror_mode": "java",
   "file_extension": ".jshell",
   "mimetype": "text/x-java-source",
   "name": "Java",
   "pygments_lexer": "java",
   "version": "20.0.2+9"
  }
 },
 "nbformat": 4,
 "nbformat_minor": 2
}
