{
 "cells": [
  {
   "cell_type": "markdown",
   "metadata": {},
   "source": [
    "---\n",
    "title: Workshop 2 Hacks\n",
    "description: Classes Workshop Hacks\n",
    "toc: true\n",
    "layout: post\n",
    "type: hacks\n",
    "courses: { csa: {week: 27} }\n",
    "comments: true\n",
    "---"
   ]
  },
  {
   "cell_type": "markdown",
   "metadata": {},
   "source": [
    "# Free Response Questions\n",
    "\n",
    "## Question 1 - Pojos and Access Control:\n",
    "Situation: The school librarian wants to create a program that stores all of the books within the library in a database and is used to manage their inventory of books available to the students. You decided to put your amazing code skills to work and help out the librarian!\n",
    "\n",
    "a. Describe the key differences between the private and public access controllers and how it affects a POJO\n",
    "\n",
    "b. Identify a scenario when you would use the private vs. public access controllers that isn't the one given in the scenario above\n",
    "When making a app, there can be some data that is personal and it can be useful to utilize public and private controllers, so that the data within the private class can not be accessed from other classes, but public constructors can.\n",
    "\n",
    "c. Create a Book class that represents the following attributes about a book: title, author, date published, person holding the book and make sure that the objects are using a POJO, the proper getters and setters and are secure from any other modifications that the program makes later to the objects\n"
   ]
  },
  {
   "cell_type": "code",
   "execution_count": null,
   "metadata": {
    "vscode": {
     "languageId": "java"
    }
   },
   "outputs": [],
   "source": [
    "public class Book {\n",
    "    private String title;\n",
    "    private String author;\n",
    "    private String datePublished;\n",
    "    private String holder;\n",
    "\n",
    "    public Book(String title, String author, String datePublished, String holder) {\n",
    "        this.title = title;\n",
    "        this.author = author;\n",
    "        this.datePublished = datePublished;\n",
    "        this.holder = holder;\n",
    "    }\n",
    "    public String getTitle() {\n",
    "        return title;\n",
    "    }\n",
    "    public String getAuthor() {\n",
    "        return author;\n",
    "    }\n",
    "    public String getDate() {\n",
    "        return datePublished;\n",
    "    }\n",
    "    public String getHolder() {\n",
    "        return holder;\n",
    "    }\n",
    "    public void setHolder(String holder) {\n",
    "        this.holder = holder;\n",
    "        System.out.println(\"Holder updated\");\n",
    "    }\n",
    "}\n",
    "\n",
    "public class Q1 {\n",
    "    public static void main(String[] args) {\n",
    "        Book greatGatsby = new Book(\"Geronimo Silton\", \"G. Silton\", \"12-18-2015\", \"none\");\n",
    "        System.out.println(greatGatsby.getAuthor());\n",
    "        System.out.println(greatGatsby.getTitle());\n",
    "        System.out.println(greatGatsby.getDate());\n",
    "        System.out.println(greatGatsby.getHolder());\n",
    "        greatGatsby.setHolder(\"Edwin\");\n",
    "        System.out.println(greatGatsby.getHolder());\n",
    "    }\n",
    "}\n",
    "Q1.main(null);"
   ]
  },
  {
   "cell_type": "markdown",
   "metadata": {},
   "source": [
    "## Question 2 - Writing Classes:\n",
    "\n",
    "(a) Describe the different features needed to create a class and what their purpose is.\n",
    "\n",
    "(b) Code:\n",
    "\n",
    "Create a Java class BankAccount to represent a simple bank account. This class should have the following attributes:\n",
    "- accountHolder (String): The name of the account holder.\n",
    "balance (double): The current balance in the account.\n",
    "Implement the following mutator (setter) methods for the BankAccount class:\n",
    "- setAccountHolder(String name): Sets the name of the account holder.\n",
    "- deposit(double amount): Deposits a given amount into the account.\n",
    "- withdraw(double amount): Withdraws a given amount from the account, but only if the withdrawal amount is less than or equal to the current balance.\n",
    "Ensure that the balance is never negative."
   ]
  },
  {
   "cell_type": "code",
   "execution_count": null,
   "metadata": {
    "vscode": {
     "languageId": "java"
    }
   },
   "outputs": [],
   "source": [
    "// N/A"
   ]
  },
  {
   "cell_type": "markdown",
   "metadata": {},
   "source": [
    "## Question 3 - Instantiation of a Class\n",
    "\n",
    "(a) Explain how a constructor works, including when it runs and what generally is done within a constructor.\n",
    "\n",
    "(b) Create an example of an overloaded constructor within a class. You must use at least three variables. Include the correct initialization of variables and correct headers for the constructor. Then, run the constructor at least twice with different variables and demonstrate that these two objects called different constructors. "
   ]
  },
  {
   "cell_type": "code",
   "execution_count": null,
   "metadata": {
    "vscode": {
     "languageId": "java"
    }
   },
   "outputs": [],
   "source": [
    "// N/A"
   ]
  },
  {
   "cell_type": "markdown",
   "metadata": {},
   "source": [
    "## Question 4 - Wrapper Classes:\n",
    "\n",
    "(a) Provide a brief summary of what a wrapper class is and provide a small code block showing a basic example of a wrapper class.\n",
    "A wrapper class is where objects contain primitive data. They “wrap” primitive values in an object,  and can be accessed as an argument and add can make primitives into objects.\n",
    "\n",
    "(b) Create a Java wrapper class called Temperature to represent temperatures in Celsius. Your Temperature class should have the following features:\n",
    "\n",
    "\n",
    "Fields: A private double field to store the temperature value in Celsius.\n",
    "\n",
    "Constructor: A constructor that takes a double value representing the temperature in Celsius and initializes the field.\n",
    "\n",
    "Methods: getTemperature(): A method that returns the temperature value in Celsius.setTemperature(double value): A method that sets a new temperature value in Celsius. toFahrenheit(): A method that converts the temperature from Celsius to Fahrenheit and returns the result as a double value. "
   ]
  },
  {
   "cell_type": "code",
   "execution_count": 1,
   "metadata": {
    "vscode": {
     "languageId": "java"
    }
   },
   "outputs": [
    {
     "name": "stdout",
     "output_type": "stream",
     "text": [
      "1\n"
     ]
    }
   ],
   "source": [
    "public class partA {\n",
    "    public static void main(String[] args) {\n",
    "        Integer num = new Integer(1);\n",
    "        System.out.println(num);\n",
    "    }\n",
    "}\n",
    "partA.main(null);"
   ]
  },
  {
   "cell_type": "code",
   "execution_count": 4,
   "metadata": {
    "vscode": {
     "languageId": "java"
    }
   },
   "outputs": [
    {
     "name": "stdout",
     "output_type": "stream",
     "text": [
      "Celsius: 37.4\n",
      "In Fahrenheit: 99.32\n",
      "After Celsius set to 30: 30.0\n"
     ]
    }
   ],
   "source": [
    "public class Temperature {\n",
    "    private double temperatureValue;\n",
    "\n",
    "    public Temperature(double temperatureValue) {\n",
    "        this.temperatureValue = temperatureValue;\n",
    "    }\n",
    "\n",
    "    public double getTemp() {\n",
    "        return temperatureValue;\n",
    "    }\n",
    "\n",
    "    public void setTemp(double value) {\n",
    "        temperatureValue = value;\n",
    "    }\n",
    "\n",
    "    public double toFahrenheit() {\n",
    "        return (temperatureValue * 9 / 5 + 32);\n",
    "    }\n",
    "\n",
    "    public static void main(String[] args) {\n",
    "        Temperature temp = new Temperature (37.4);\n",
    "        System.out.println(\"Celsius: \" + temp.getTemp());\n",
    "        System.out.println(\"In Fahrenheit: \" + temp.toFahrenheit());\n",
    "        temp.setTemp(30.0);\n",
    "        System.out.println(\"After Celsius set to 30: \" + temp.getTemp());\n",
    "    }\n",
    "}\n",
    "Temperature.main(null);"
   ]
  },
  {
   "cell_type": "markdown",
   "metadata": {},
   "source": [
    "## Question 5 - Inheritence:\n",
    "\n",
    "Situation: You are developing a program to manage a zoo, where various types of animals are kept in different enclosures. To streamline your code, you decide to use inheritance to model the relationships between different types of animals and their behaviors.\n",
    "\n",
    "(a) Explain the concept of inheritance in Java. Provide an example scenario where inheritance is useful.\n",
    "\n",
    "(b) Code:\n",
    "\n",
    "You need to implement a Java class hierarchy to represent different types of animals in the zoo. Create a superclass Animal with basic attributes and methods common to all animals, and at least three subclasses representing specific types of animals with additional attributes and methods. Include comments to explain your code, specifically how inheritance is used.\n"
   ]
  },
  {
   "cell_type": "code",
   "execution_count": null,
   "metadata": {
    "vscode": {
     "languageId": "java"
    }
   },
   "outputs": [],
   "source": [
    "// N/A"
   ]
  }
 ],
 "metadata": {
  "kernelspec": {
   "display_name": "Java",
   "language": "java",
   "name": "java"
  },
  "language_info": {
   "codemirror_mode": "java",
   "file_extension": ".jshell",
   "mimetype": "text/x-java-source",
   "name": "Java",
   "pygments_lexer": "java",
   "version": "20.0.2+9"
  }
 },
 "nbformat": 4,
 "nbformat_minor": 2
}
