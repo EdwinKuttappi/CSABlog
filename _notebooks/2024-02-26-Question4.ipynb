{
 "cells": [
  {
   "cell_type": "markdown",
   "metadata": {},
   "source": [
    "---\n",
    "layout: post\n",
    "comments: true\n",
    "title: 2015 FRQ Number 4\n",
    "description: questions and answers to the frq number 4\n",
    "courses: { csa: {week: 24} }\n",
    "type: hacks\n",
    "---"
   ]
  },
  {
   "cell_type": "markdown",
   "metadata": {},
   "source": [
    "# Part a\n",
    "A number group represents a group of integers defined in some way. It could be empty, or it could contain one or more integers.\n",
    "\n",
    "Write an interface named NumberGroup that represents a group of integers. The interface should have a single contains method that determines if a given integer is in the group. For example, if group1 is of type NumberGroup, and it contains only the two numbers -5 and 3, then group1.contains(-5) would return true, and group1.contains(2) would return false.\n",
    "Write the complete NumberGroup interface. It must have exactly one method."
   ]
  },
  {
   "cell_type": "code",
   "execution_count": 3,
   "metadata": {},
   "outputs": [
    {
     "name": "stdout",
     "output_type": "stream",
     "text": [
      "true\n",
      "false\n"
     ]
    }
   ],
   "source": [
    "import java.util.Arrays;\n",
    "import java.util.List;\n",
    "\n",
    "public class Main {\n",
    "    public static void main(String[] args) {\n",
    "        NumberGroup group1 = new IntegerList(Arrays.asList(100, 200));\n",
    "        System.out.println(group1.contains(100));\n",
    "        System.out.println(group1.contains(300));\n",
    "    }\n",
    "\n",
    "    public interface NumberGroup {\n",
    "        boolean contains(int num);\n",
    "    }\n",
    "\n",
    "    public static class IntegerList implements NumberGroup {\n",
    "        private List<Integer> numbers;\n",
    "\n",
    "        public IntegerList(List<Integer> numbers) {\n",
    "            this.numbers = numbers;\n",
    "        }\n",
    "\n",
    "        @Override\n",
    "        public boolean contains(int num) {\n",
    "            return numbers.contains(num);\n",
    "        }\n",
    "    }\n",
    "}\n",
    "Main.main(null)"
   ]
  },
  {
   "cell_type": "code",
   "execution_count": null,
   "metadata": {},
   "outputs": [],
   "source": [
    "public interface NumberGroup {\n",
    "    boolean contains(int value);\n",
    "}"
   ]
  },
  {
   "cell_type": "markdown",
   "metadata": {},
   "source": [
    "# Part b\n",
    "A range represents a number group that contains all (and only) the integers between a minimum value and a maximum value, inclusive.\n",
    "Write the Range class, which is a NumberGroup. The Range class represents the group of int values that range from a given minimum value up through a given maximum value, inclusive. For example,the declaration\n",
    "\n",
    "```java \n",
    "NumberGroup range1 = new Range(-3, 2);\n",
    "``` \n",
    "represents the group of integer values -3, -2, -1, 0, 1, 2.\n",
    "\n",
    "Write the complete Range class. Include all necessary instance variables and methods as well as a constructor that takes two int parameters. The first parameter represents the minimum value, and the second parameter represents the maximum value of the range. You may assume that the minimum is less than or equal to the maximum."
   ]
  },
  {
   "cell_type": "code",
   "execution_count": 2,
   "metadata": {},
   "outputs": [
    {
     "name": "stdout",
     "output_type": "stream",
     "text": [
      "true\n",
      "true\n",
      "false\n"
     ]
    }
   ],
   "source": [
    "public class Main {    \n",
    "    public static void main(String[] args) {\n",
    "        NumberGroup range1 = new Range(100, 200);\n",
    "        System.out.println(range1.contains(150));\n",
    "        System.out.println(range1.contains(175));\n",
    "        System.out.println(range1.contains(300));\n",
    "    }\n",
    "\n",
    "    public interface NumberGroup {\n",
    "        boolean contains(int num);\n",
    "    }\n",
    "\n",
    "    public static class Range implements NumberGroup {\n",
    "        private int min;\n",
    "        private int max;\n",
    "\n",
    "        public Range(int min, int max) {\n",
    "            this.min = min;\n",
    "            this.max = max;\n",
    "        }\n",
    "\n",
    "        @Override\n",
    "        public boolean contains(int number) {\n",
    "            return number >= min && number <= max;\n",
    "        }\n",
    "    }\n",
    "}\n",
    "Main.main(null)"
   ]
  },
  {
   "cell_type": "markdown",
   "metadata": {},
   "source": [
    "# Part c\n",
    "The MultipleGroups class (not shown) represents a collection of NumberGroup objects and isa NumberGroup. The MultipleGroups class stores the number groups in the instance variable groupList (shown below), which is initialized in the constructor.\n",
    "```java\n",
    "private List<NumberGroup> groupList;\n",
    "```\n",
    "Write the MultipleGroups method contains. The method takes an integer and returns true if and only if the integer is contained in one or more of the number groups in groupList.\n",
    "\n",
    "For example, suppose multiple1 has been declared as an instance of MultipleGroups and consists of the three ranges created by the calls new Range(5, 8), new Range(10, 12), and new Range(1, 6). The following table shows the results of several calls to contains."
   ]
  },
  {
   "cell_type": "code",
   "execution_count": 4,
   "metadata": {},
   "outputs": [
    {
     "name": "stdout",
     "output_type": "stream",
     "text": [
      "true\n",
      "false\n",
      "true\n"
     ]
    }
   ],
   "source": [
    "import java.util.ArrayList;\n",
    "import java.util.List;\n",
    "\n",
    "public class Main {\n",
    "    public static void main(String[] args) {\n",
    "        List<NumberGroup> groups = new ArrayList<>();\n",
    "        groups.add(new Range(100, 200));\n",
    "        groups.add(new Range(300, 400));\n",
    "        groups.add(new Range(500, 600));\n",
    "\n",
    "        MultipleGroups multiple1 = new MultipleGroups(groups);\n",
    "\n",
    "        System.out.println(multiple1.contains(150)); // true\n",
    "        System.out.println(multiple1.contains(250)); // false\n",
    "        System.out.println(multiple1.contains(550)); // true\n",
    "    }\n",
    "\n",
    "    // from part A\n",
    "    public interface NumberGroup {\n",
    "        boolean contains(int num);\n",
    "    }\n",
    "\n",
    "    // from part B\n",
    "    public static class Range implements NumberGroup {\n",
    "        private int min;\n",
    "        private int max;\n",
    "\n",
    "        public Range(int min, int max) {\n",
    "            this.min = min;\n",
    "            this.max = max;\n",
    "        }\n",
    "\n",
    "        @Override\n",
    "        public boolean contains(int num) {\n",
    "            return num >= min && num <= max;\n",
    "        }\n",
    "    }\n",
    "\n",
    "    public static class MultipleGroups implements NumberGroup {\n",
    "        private List<NumberGroup> groupList;\n",
    "\n",
    "        public MultipleGroups(List<NumberGroup> groupList) {\n",
    "            this.groupList = groupList;\n",
    "        }\n",
    "\n",
    "        public boolean contains(int num) {\n",
    "            for (NumberGroup group : groupList) {\n",
    "                if (group.contains(num)) {\n",
    "                    return true;\n",
    "                }\n",
    "            }\n",
    "            return false;\n",
    "        }\n",
    "    }\n",
    "}\n",
    "\n",
    "Main.main(null);"
   ]
  },
  {
   "cell_type": "markdown",
   "metadata": {},
   "source": [
    "# Summary\n",
    "This question was very hard and I needed some help just like number 3, it was definitely not as easy as the first part. I think that this question, specifically part was easier thatn it looked, but there were a lot of other parts that needed some change because I had no idea what exactly what I needed to implement within the code cell. This is about classes and learning how to use classes and manipulate control structures. This problem wasn't as hard as question number 3, but I also had no idea how to attempt parts b and c, so I turned to raunak for some help and he offered me some guidance. This was a part that I did on Sunday night along with FRQ 3 because I didn't understand when I did them all on Saturday\n",
    "Stats:\n",
    "**Time:** *42 minutes*\n",
    "\n",
    "**Date Completed:** *February 24th, 2023*\n",
    "\n",
    "**CollegeBoard Scoring**: *7/9*\n",
    "\n",
    "**Personal Ranking:** 2\n",
    "Stats:\n",
    "**Time:** *37 minutes*\n",
    "\n",
    "**Date Completed:** *February 24th, 2023*\n",
    "\n",
    "**CollegeBoard Scoring**: */9*\n",
    "\n",
    "**Personal Ranking:** 3"
   ]
  },
  {
   "cell_type": "markdown",
   "metadata": {},
   "source": [
    "# Scoring\n",
    "This question was worth 9 points\n",
    "\n",
    "## part a:\n",
    "- +1 for <code>interface NumberGroup</code>\n",
    "- +1 for <code>boolean contains(int num);</code>\n",
    "\n",
    "## part b:\n",
    "- +1 for <code>class Range implements NumberGroup</code>\n",
    "- +1 for Declares appropriate <code>private</code> instance variable(s)\n",
    "- +1 for Uses correct constructor header\n",
    "- +1 for Initializes instance variables within constructor using parameters\n",
    "- +1 for Computes and returns correct value from <code>contains</code>\n",
    "\n",
    "## part c:\n",
    "- +1 for Calls <code>Contains</code> on elements of <code>groupList</code> in context of loop\n",
    "- +1 for Computes and returns correct value\n",
    "\n",
    "## question specific penalties:\n",
    "- -1 for inappropriate use of <code>static</code>"
   ]
  }
 ],
 "metadata": {
  "kernelspec": {
   "display_name": "Java",
   "language": "java",
   "name": "java"
  },
  "language_info": {
   "codemirror_mode": "java",
   "file_extension": ".jshell",
   "mimetype": "text/x-java-source",
   "name": "java",
   "pygments_lexer": "java",
   "version": "20.0.2+9"
  }
 },
 "nbformat": 4,
 "nbformat_minor": 2
}
