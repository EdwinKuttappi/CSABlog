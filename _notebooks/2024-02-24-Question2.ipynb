{
 "cells": [
  {
   "cell_type": "markdown",
   "metadata": {},
   "source": [
    "---\n",
    "layout: post\n",
    "comments: true\n",
    "title: 2015 FRQ Number 2\n",
    "description: questions and answers to the frq number 2\n",
    "courses: { csa: {week: 24} }\n",
    "type: hacks\n",
    "---"
   ]
  },
  {
   "cell_type": "markdown",
   "metadata": {},
   "source": [
    "# part a\n",
    "Write the complete HiddenWord class, including any necessary instance variables, its constructor, and the method, getHint, described above. You may assume that the length of the guess is the same as the length of the hidden word."
   ]
  },
  {
   "cell_type": "code",
   "execution_count": 2,
   "metadata": {},
   "outputs": [
    {
     "name": "stdout",
     "output_type": "stream",
     "text": [
      "+A+++\n",
      "H****\n",
      "H*++*\n",
      "HAR*S\n",
      "HARPS\n"
     ]
    }
   ],
   "source": [
    "public class HiddenWord {\n",
    "    private String word;\n",
    "\n",
    "    public HiddenWord(String word) {\n",
    "        this.word = word;\n",
    "    }\n",
    "\n",
    "    public String getHint(String guess) {\n",
    "        String hint = \"\";\n",
    "\n",
    "        for(int i = 0; i < word.length(); i++) {\n",
    "            String guessLetter = guess.substring(i, i + 1);\n",
    "\n",
    "            if(word.substring(i, i + 1).equals(guessLetter))\n",
    "                hint += guessLetter;\n",
    "            else if(word.indexOf(guessLetter) != -1)\n",
    "                hint += \"+\";\n",
    "            else\n",
    "                hint += \"*\";\n",
    "        }\n",
    "        return hint;\n",
    "    }\n",
    "}\n",
    "\n",
    "public class partA {\n",
    "    public static void main(String[] args) {\n",
    "        HiddenWord puzzle = new HiddenWord(\"HARPS\");\n",
    "\n",
    "        System.out.println(puzzle.getHint(\"AAAAA\"));\n",
    "        System.out.println(puzzle.getHint(\"HELLO\"));\n",
    "        System.out.println(puzzle.getHint(\"HEART\"));\n",
    "        System.out.println(puzzle.getHint(\"HARMS\"));\n",
    "        System.out.println(puzzle.getHint(\"HARPS\"));\n",
    "    }\n",
    "}\n",
    "partA.main(null)"
   ]
  },
  {
   "cell_type": "markdown",
   "metadata": {},
   "source": [
    "# Summary\n",
    "This question was very hard and I needed some help, it was definitely not as easy as the first part. I think that this question is about classes and learning how to use classes and manipulate strings. I think the key algorithm during this part was focused on choosing the string 'HARPS' and then checking a series of hints in order to see how it works exactly. I also really liked this FRQ, and I was just thinking wouldn't it be cool if you could play in the terminal, and it just kind of happened with a lot of help, because I didn't know how to use Scanner all to well.\n",
    "\n",
    "Stats:\n",
    "**Time:** *42 minutes*\n",
    "\n",
    "**Date Completed:** *February 24th, 2023*\n",
    "\n",
    "**CollegeBoard Scoring**: *8/9*\n",
    "\n",
    "**Personal Ranking:** 2"
   ]
  },
  {
   "cell_type": "markdown",
   "metadata": {},
   "source": [
    "Looking back on the FRQs and how they relate to our project, I've realized where I need improvement and where I'm more confident.\n",
    "\n",
    "The FRQs about 2D arrays and programming structures were tough. I couldn't solve them alone and had to use outside help to finish them. My struggle wasn't with writing the basic parts but putting everything together into a working program. I need to practice working faster, understanding 2D arrays better, creating complex structures, and knowing when to use string to array conversions.\n",
    "\n",
    "It's clear that the FRQ concepts are important for our project too. In the next trimester, I'll keep comparing our project work to practice FRQs. This way, I can understand the concepts better and see their relevance. It'll prepare me for the AP exam and future programming challenges."
   ]
  },
  {
   "cell_type": "code",
   "execution_count": 10,
   "metadata": {},
   "outputs": [
    {
     "name": "stdout",
     "output_type": "stream",
     "text": [
      "Enter your guess: "
     ]
    },
    {
     "name": "stdout",
     "output_type": "stream",
     "text": [
      "Hint: EDWIN\n",
      "Congratulations! You've guessed the word!\n"
     ]
    }
   ],
   "source": [
    "import java.util.Scanner;\n",
    "\n",
    "public class Test {\n",
    "    private String word;\n",
    "\n",
    "    public Test(String word) {\n",
    "        this.word = word;\n",
    "    }\n",
    "\n",
    "    public String getHint(String guess) {\n",
    "        String hint = \"\";\n",
    "\n",
    "        for(int i = 0; i < word.length(); i++) {\n",
    "            String guessLetter = guess.substring(i, i + 1);\n",
    "\n",
    "            if(word.substring(i, i + 1).equals(guessLetter))\n",
    "                hint += guessLetter;\n",
    "            else if(word.indexOf(guessLetter) != -1)\n",
    "                hint += \"+\";\n",
    "            else\n",
    "                hint += \"*\";\n",
    "        }\n",
    "        return hint;\n",
    "    }\n",
    "\n",
    "    public static void main(String[] args) {\n",
    "        Scanner scanner = new Scanner(System.in);\n",
    "        Test puzzle = new Test(\"EDWIN\");\n",
    "\n",
    "        String guess;\n",
    "        do {\n",
    "            System.out.print(\"Enter your guess: \");\n",
    "            guess = scanner.nextLine().toUpperCase();\n",
    "\n",
    "            if (guess.length() != 5) {\n",
    "                System.out.println(\"Your guess must be 5 letters long. Try again.\");\n",
    "            } else {\n",
    "                String hint = puzzle.getHint(guess);\n",
    "                System.out.println(\"Hint: \" + hint);\n",
    "                if (hint.equals(\"EDWIN\")) {\n",
    "                    System.out.println(\"Congratulations! You've guessed the word!\");\n",
    "                    break;\n",
    "                }\n",
    "            }\n",
    "        } while (true);\n",
    "\n",
    "        scanner.close();\n",
    "    }\n",
    "}\n",
    "HiddenWord.main(null)"
   ]
  },
  {
   "cell_type": "markdown",
   "metadata": {},
   "source": [
    "# Scoring\n",
    "This question was worth 9 points\n",
    "\n",
    "## part a:\n",
    "- +1 for uses correct class, constructor, and method headers<code>interface NumberGroup</code>\n",
    "- +1 for Declares appropriate <code>private</code> instance variable\n",
    "- +1 for Initializes instance variable within constructor using parameter\n",
    "- +6 for <code>getHint</code>\n",
    "    - +1 Accesses all letters in both guess and hidden word in loop\n",
    "    - +4 Process letters within loop\n",
    "        - +1 Extracts and compares corresponding single letters from guess and hidden word\n",
    "        - +1 Tests whether guess letter occurs in same position in both guess and hidden word\n",
    "        - +1 Tests whether guess letter occurs in hidden word but not in same position as in guess\n",
    "        - +1 Adds correct character exactly once to the hint string based on the test result\n",
    "    - +1 Declares, initializes, and returns constructed hint string\n",
    "\n",
    "## question specific penalties:\n",
    "- -0 Uses <code>get</code> to access letters from strings\n",
    "- -0 Consistently uses incorrect name instead of instance variable name for hidden word"
   ]
  }
 ],
 "metadata": {
  "kernelspec": {
   "display_name": "Java",
   "language": "java",
   "name": "java"
  },
  "language_info": {
   "codemirror_mode": "java",
   "file_extension": ".jshell",
   "mimetype": "text/x-java-source",
   "name": "java",
   "pygments_lexer": "java",
   "version": "20.0.2+9"
  }
 },
 "nbformat": 4,
 "nbformat_minor": 2
}
