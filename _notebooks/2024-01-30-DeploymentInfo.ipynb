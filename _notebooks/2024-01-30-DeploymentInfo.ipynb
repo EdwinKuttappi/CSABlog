{
 "cells": [
  {
   "cell_type": "markdown",
   "metadata": {},
   "source": [
    "---\n",
    "layout: post\n",
    "title: Deployment Information\n",
    "description: info on deployment\n",
    "courses: { csa: {week: 20} }\n",
    "type: tangibles\n",
    "---"
   ]
  },
  {
   "cell_type": "markdown",
   "metadata": {},
   "source": [
    "## Deployment Information\n",
    "Change the Backend URL in GameEnv. For a secure “https” connection use “wss” instead of ws teacher_portfolio/assets/js/multiplayer/GameEnv.js\n",
    "\n",
    "static socket = io(`ws://${window.location.host.split(\":\")[0]}:3000`); \n",
    "Use the Dockerfile and docker-compose in node_backend to adjust the actual output port in the docker-compose In NGINX make sure to forward web socket traffic, here is an NGINX file from another project using socket.io."
   ]
  },
  {
   "cell_type": "code",
   "execution_count": null,
   "metadata": {
    "vscode": {
     "languageId": "shellscript"
    }
   },
   "outputs": [],
   "source": [
    "server {\n",
    "    server_name platformer_ws.nighthawkcodingsociety.com;\n",
    "    location / {\n",
    "         proxy_pass http://localhost:300;\n",
    "\n",
    "        # this magic is needed for WebSocket\n",
    "        proxy_http_version  1.1;\n",
    "        proxy_set_header    Upgrade $http_upgrade;\n",
    "        proxy_set_header    Connection $connection_upgrade;\n",
    "        proxy_set_header    Host $http_host;\n",
    "        proxy_set_header    X-Real-IP $remote_addr;\n",
    "    }\n",
    "}"
   ]
  }
 ],
 "metadata": {
  "language_info": {
   "name": "python"
  }
 },
 "nbformat": 4,
 "nbformat_minor": 2
}
