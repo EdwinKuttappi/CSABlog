{
 "cells": [
  {
   "attachments": {},
   "cell_type": "markdown",
   "metadata": {},
   "source": [
    "---\n",
    "layout: post\n",
    "title: Linux Shell and Bash\n",
    "description: Checking Tools Install with Bash\n",
    "toc: true\n",
    "comments: true\n",
    "courses: { csa: {week: 1} }\n",
    "type: hacks\n",
    "---"
   ]
  },
  {
   "attachments": {},
   "cell_type": "markdown",
   "metadata": {},
   "source": [
    "## Bash Tutorial\n",
    "> A brief overview of Bash, on your way to becoming a Linux expert.  <mark>When a computer boots up, a kernel (MacOS, Windows, Linux) is started</mark>.  This kernel provides a shell, or <mark>terminal</mark>, that allows user to interact with a most basic set of commands.  Typically, the casual user will not interact with the shell/terminal as a Desktop User Interface is started by the computer boot up process.  To activate a shell directly, users will run a \"terminal\" through the Desktop. <mark>VS Code provides ability to activate \"terminal\"</mark> while in the IDE."
   ]
  },
  {
   "cell_type": "markdown",
   "metadata": {},
   "source": [
    "### Define variable\n",
    "The following code cell <mark>defines 3 variables and assigns each a value</mark>.  There are some extra command, called a HERE document, that write these variables to a file.  This is so we can use these variables over and over below."
   ]
  },
  {
   "cell_type": "code",
   "execution_count": 5,
   "metadata": {
    "vscode": {
     "languageId": "shellscript"
    }
   },
   "outputs": [
    {
     "name": "stdout",
     "output_type": "stream",
     "text": [
      "bash: fg: %%script: no such job\n"
     ]
    }
   ],
   "source": [
    "%%script bash\n",
    "\n",
    "# Dependency Variables, set to match your project directories\n",
    "\n",
    "cat <<EOF > /tmp/variables.sh\n",
    "export project_dir=$HOME/vscode\n",
    "export project=\\$project_dir/CSABlog\n",
    "export project_repo=\"https://github.com/EdwinKuttappi/CSABlog.git\"\n",
    "EOF"
   ]
  },
  {
   "cell_type": "markdown",
   "metadata": {},
   "source": [
    "### Output the value of a variable\n",
    "The following code cell <mark>outputs the value of the variables</mark>, using the echo command.  For visual understanding in the output, each echo command provide a title before the $variable "
   ]
  },
  {
   "cell_type": "code",
   "execution_count": 6,
   "metadata": {
    "vscode": {
     "languageId": "shellscript"
    }
   },
   "outputs": [
    {
     "name": "stdout",
     "output_type": "stream",
     "text": [
      "bash: fg: %%script: no such job\n"
     ]
    },
    {
     "name": "stdout",
     "output_type": "stream",
     "text": [
      "Project dir: /home/edwin/vscode\n",
      "Project: /home/edwin/vscode/CSABlog\n",
      "Repo: https://github.com/EdwinKuttappi/CSABlog.git\n"
     ]
    }
   ],
   "source": [
    "%%script bash\n",
    "\n",
    "# Extract saved variables\n",
    "source /tmp/variables.sh\n",
    "\n",
    "# Output shown title and value variables\n",
    "echo \"Project dir: $project_dir\"\n",
    "echo \"Project: $project\"\n",
    "echo \"Repo: $project_repo\""
   ]
  },
  {
   "cell_type": "markdown",
   "metadata": {},
   "source": [
    "## Project Setup and Analysis with Bash Scripts\n",
    "The bash scripts that follow automate what was done in the setup procedures.  The purpose of this is to show that many of the commands we performed can be added to a script, then performed automatically."
   ]
  },
  {
   "attachments": {},
   "cell_type": "markdown",
   "metadata": {},
   "source": [
    "### Pull Code\n",
    "\n",
    "```bash\n",
    "cd ~\n",
    "cd vscode\n",
    "cd CSABlog\n",
    "git pull\n",
    "git pull --rebase\n",
    "```"
   ]
  },
  {
   "cell_type": "code",
   "execution_count": 7,
   "metadata": {
    "vscode": {
     "languageId": "shellscript"
    }
   },
   "outputs": [
    {
     "name": "stdout",
     "output_type": "stream",
     "text": [
      "bash: fg: %%script: no such job\n"
     ]
    },
    {
     "name": "stdout",
     "output_type": "stream",
     "text": [
      "Using conditional statement to create a project directory and project\n",
      "Directory /home/edwin/vscode exists.\n",
      "Directory /home/edwin/vscode/CSABlog exists.\n"
     ]
    }
   ],
   "source": [
    "%%script bash\n",
    "\n",
    "# Extract saved variables\n",
    "source /tmp/variables.sh\n",
    "\n",
    "echo \"Using conditional statement to create a project directory and project\"\n",
    "\n",
    "cd ~    # start in home directory\n",
    "\n",
    "# Conditional block to make a project directory\n",
    "if [ ! -d $project_dir ]\n",
    "then \n",
    "    echo \"Directory $project_dir does not exists... makinng directory $project_dir\"\n",
    "    mkdir -p $project_dir\n",
    "fi\n",
    "echo \"Directory $project_dir exists.\" \n",
    "\n",
    "# Conditional block to git clone a project from project_repo\n",
    "if [ ! -d $project ]\n",
    "then\n",
    "    echo \"Directory $project does not exists... cloning $project_repo\"\n",
    "    cd $project_dir\n",
    "    git clone $project_repo\n",
    "    cd ~\n",
    "fi\n",
    "echo \"Directory $project exists.\" "
   ]
  },
  {
   "attachments": {},
   "cell_type": "markdown",
   "metadata": {},
   "source": [
    "### Look at files Github project\n",
    "> All computers contain files and directories.  The clone brought more files from cloud to your machine.  Review the bash shell script, observe the commands that show and interact with files and directories.  These were used during setup.\n",
    "\n",
    "```bash\n",
    "ls # use this to list all files found in current directory\n",
    "cd # change the directory\n",
    "pwd \n",
    "echo\n",
    "```\n",
    "\n",
    "## Git Commands\n",
    "- \"ls\" lists computer files in Unix and Unix-like operating systems\n",
    "- \"cd\" offers way to navigate and change working directory\n",
    "- \"pwd\" print working directory\n",
    "- \"echo\" used to display line of text/string that are passed as an argument"
   ]
  },
  {
   "cell_type": "code",
   "execution_count": 8,
   "metadata": {
    "vscode": {
     "languageId": "shellscript"
    }
   },
   "outputs": [
    {
     "name": "stdout",
     "output_type": "stream",
     "text": [
      "bash: fg: %%script: no such job\n",
      "Navigate to project, then navigate to area wwhere files were cloned\n",
      "/home/edwin/vscode/CSABlog\n",
      "\n",
      "list top level or root of files with project pulled from github\n",
      "Gemfile       Makefile     \u001b[0m\u001b[01;34m_data\u001b[0m      \u001b[01;34m_notebooks\u001b[0m  \u001b[01;32mactivate.sh\u001b[0m  index.md\n",
      "Gemfile.lock  README.md    \u001b[01;34m_includes\u001b[0m  \u001b[01;34m_posts\u001b[0m      csa.md       indexBlogs.md\n",
      "LICENSE       _config.yml  \u001b[01;34m_layouts\u001b[0m   \u001b[01;34m_site\u001b[0m       \u001b[01;34mimages\u001b[0m       \u001b[01;34mscripts\u001b[0m\n"
     ]
    }
   ],
   "source": [
    "%%script bash\n",
    "\n",
    "# Extract saved variables\n",
    "source /tmp/variables.sh\n",
    "\n",
    "echo \"Navigate to project, then navigate to area wwhere files were cloned\"\n",
    "cd $project\n",
    "pwd\n",
    "\n",
    "echo \"\"\n",
    "echo \"list top level or root of files with project pulled from github\"\n",
    "ls\n"
   ]
  },
  {
   "attachments": {},
   "cell_type": "markdown",
   "metadata": {},
   "source": [
    "### Look at file list with hidden and long attributes\n",
    "> Most linux commands have options to enhance behavior.  The enhanced listing below shows permission bits, owner of file, size and date.\n",
    "\n",
    "[ls reference](https://www.rapidtables.com/code/linux/ls.html)"
   ]
  },
  {
   "cell_type": "code",
   "execution_count": 9,
   "metadata": {
    "vscode": {
     "languageId": "shellscript"
    }
   },
   "outputs": [
    {
     "name": "stdout",
     "output_type": "stream",
     "text": [
      "bash: fg: %%script: no such job\n",
      "Navigate to project, then navigate to area wwhere files were cloned\n",
      "/home/edwin/vscode/CSABlog\n",
      "\n",
      "list all files in long format\n",
      "total 100\n",
      "drwxr-xr-x 12 edwin edwin 4096 Aug 24 07:58 \u001b[0m\u001b[01;34m.\u001b[0m\n",
      "drwxr-xr-x 14 edwin edwin 4096 Aug 21 11:44 \u001b[01;34m..\u001b[0m\n",
      "drwxr-xr-x  8 edwin edwin 4096 Aug 24 09:42 \u001b[01;34m.git\u001b[0m\n",
      "drwxr-xr-x  3 edwin edwin 4096 Aug 18 07:35 \u001b[01;34m.github\u001b[0m\n",
      "-rw-r--r--  1 edwin edwin  104 Aug 18 07:35 .gitignore\n",
      "-rw-r--r--  1 edwin edwin  122 Aug 18 07:35 Gemfile\n",
      "-rw-r--r--  1 edwin edwin 7188 Aug 18 09:04 Gemfile.lock\n",
      "-rw-r--r--  1 edwin edwin 1081 Aug 18 07:35 LICENSE\n",
      "-rw-r--r--  1 edwin edwin 3116 Aug 21 11:12 Makefile\n",
      "-rw-r--r--  1 edwin edwin 5798 Aug 18 07:35 README.md\n",
      "-rw-r--r--  1 edwin edwin  449 Aug 21 11:11 _config.yml\n",
      "drwxr-xr-x  2 edwin edwin 4096 Aug 18 07:35 \u001b[01;34m_data\u001b[0m\n",
      "drwxr-xr-x  2 edwin edwin 4096 Aug 18 07:35 \u001b[01;34m_includes\u001b[0m\n",
      "drwxr-xr-x  2 edwin edwin 4096 Aug 24 08:01 \u001b[01;34m_layouts\u001b[0m\n",
      "drwxr-xr-x  2 edwin edwin 4096 Aug 24 09:41 \u001b[01;34m_notebooks\u001b[0m\n",
      "drwxr-xr-x  3 edwin edwin 4096 Aug 24 07:58 \u001b[01;34m_posts\u001b[0m\n",
      "drwxr-xr-x  8 edwin edwin 4096 Aug 24 09:05 \u001b[01;34m_site\u001b[0m\n",
      "-rwxr-xr-x  1 edwin edwin 1291 Aug 18 07:35 \u001b[01;32mactivate.sh\u001b[0m\n",
      "-rw-r--r--  1 edwin edwin   92 Aug 18 07:35 csa.md\n",
      "drwxr-xr-x  2 edwin edwin 4096 Aug 24 07:45 \u001b[01;34mimages\u001b[0m\n",
      "-rw-r--r--  1 edwin edwin 2183 Aug 24 07:55 index.md\n",
      "-rw-r--r--  1 edwin edwin   53 Aug 18 07:35 indexBlogs.md\n",
      "drwxr-xr-x  3 edwin edwin 4096 Aug 18 07:35 \u001b[01;34mscripts\u001b[0m\n"
     ]
    }
   ],
   "source": [
    "%%script bash\n",
    "\n",
    "# Extract saved variables\n",
    "source /tmp/variables.sh\n",
    "\n",
    "echo \"Navigate to project, then navigate to area wwhere files were cloned\"\n",
    "cd $project\n",
    "pwd\n",
    "\n",
    "echo \"\"\n",
    "echo \"list all files in long format\"\n",
    "ls -al   # all files -a (hidden) in -l long listing"
   ]
  },
  {
   "cell_type": "code",
   "execution_count": 10,
   "metadata": {
    "vscode": {
     "languageId": "shellscript"
    }
   },
   "outputs": [
    {
     "name": "stdout",
     "output_type": "stream",
     "text": [
      "bash: fg: %%script: no such job\n",
      "Look for posts\n",
      "/home/edwin/vscode/CSABlog/_posts\n",
      "total 28\n",
      "-rw-r--r-- 1 edwin edwin 3752 Aug 24 07:58 2023-08-17-AP-pseudo-vs-python_IPYNB_2_.md\n",
      "-rw-r--r-- 1 edwin edwin 1651 Aug 24 09:33 2023-08-18-HowIWouldCode.md\n",
      "-rw-r--r-- 1 edwin edwin 3191 Aug 24 09:15 2023-08-20-Calculator.md\n",
      "-rw-r--r-- 1 edwin edwin 6059 Aug 24 07:58 2023-08-21-VSCode-GitHub_Pages_IPYNB_2_.md\n",
      "-rw-r--r-- 1 edwin edwin  323 Aug 24 07:58 2023-08-22-JavaNotebook_IPYNB_2_.md\n",
      "drwxr-xr-x 2 edwin edwin 4096 Aug 23 12:39 \u001b[0m\u001b[01;34mlab\u001b[0m\n"
     ]
    }
   ],
   "source": [
    "%%script bash\n",
    "\n",
    "# Extract saved variables\n",
    "source /tmp/variables.sh\n",
    "\n",
    "echo \"Look for posts\"\n",
    "export posts=$project/_posts  # _posts inside project\n",
    "cd $posts  # this should exist per fastpages\n",
    "pwd  # present working directory\n",
    "ls -l  # list posts"
   ]
  },
  {
   "cell_type": "code",
   "execution_count": 11,
   "metadata": {
    "vscode": {
     "languageId": "shellscript"
    }
   },
   "outputs": [
    {
     "name": "stdout",
     "output_type": "stream",
     "text": [
      "bash: fg: %%script: no such job\n",
      "Look for notebooks\n",
      "/home/edwin/vscode/CSABlog/_notebooks\n",
      "total 44\n",
      "-rw-r--r-- 1 edwin edwin  5415 Aug 18 07:35 2023-08-17-AP-pseudo-vs-python.ipynb\n",
      "-rw-r--r-- 1 edwin edwin 16839 Aug 24 09:48 2023-08-20-TestTools.ipynb\n",
      "-rw-r--r-- 1 edwin edwin  8615 Aug 18 07:35 2023-08-21-VSCode-GitHub_Pages.ipynb\n",
      "-rw-r--r-- 1 edwin edwin  1147 Aug 24 07:50 2023-08-22-JavaNotebook.ipynb\n"
     ]
    }
   ],
   "source": [
    "%%script bash\n",
    "\n",
    "# Extract saved variables\n",
    "source /tmp/variables.sh\n",
    "\n",
    "echo \"Look for notebooks\"\n",
    "export notebooks=$project/_notebooks  # _notebooks is inside project\n",
    "cd $notebooks   # this should exist per fastpages\n",
    "pwd  # present working directory\n",
    "ls -l  # list notebooks"
   ]
  },
  {
   "cell_type": "code",
   "execution_count": 12,
   "metadata": {
    "vscode": {
     "languageId": "shellscript"
    }
   },
   "outputs": [
    {
     "name": "stdout",
     "output_type": "stream",
     "text": [
      "bash: fg: %%script: no such job\n",
      "Look for images in notebooks, print working directory, list files\n",
      "bash: cd: /home/edwin/vscode/CSABlog/_notebooks/images: No such file or directory\n",
      "/home/edwin/vscode/CSABlog/_notebooks\n",
      "total 44\n",
      "-rw-r--r-- 1 edwin edwin  5415 Aug 18 07:35 2023-08-17-AP-pseudo-vs-python.ipynb\n",
      "-rw-r--r-- 1 edwin edwin 16839 Aug 24 09:48 2023-08-20-TestTools.ipynb\n",
      "-rw-r--r-- 1 edwin edwin  8615 Aug 18 07:35 2023-08-21-VSCode-GitHub_Pages.ipynb\n",
      "-rw-r--r-- 1 edwin edwin  1147 Aug 24 07:50 2023-08-22-JavaNotebook.ipynb\n"
     ]
    }
   ],
   "source": [
    "%%script bash\n",
    "\n",
    "# Extract saved variables\n",
    "source /tmp/variables.sh\n",
    "\n",
    "echo \"Look for images in notebooks, print working directory, list files\"\n",
    "cd $notebooks/images  # this should exist per fastpages\n",
    "pwd\n",
    "ls -l"
   ]
  },
  {
   "attachments": {},
   "cell_type": "markdown",
   "metadata": {},
   "source": [
    "### Look inside a Markdown File\n",
    "> \"cat\" reads data from the file and gives its content as output"
   ]
  },
  {
   "cell_type": "code",
   "execution_count": null,
   "metadata": {
    "vscode": {
     "languageId": "shellscript"
    }
   },
   "outputs": [],
   "source": [
    "%%script bash\n",
    "\n",
    "# Extract saved variables\n",
    "source /tmp/variables.sh\n",
    "\n",
    "echo \"Navigate to project, then navigate to area wwhere files were cloned\"\n",
    "\n",
    "cd $project\n",
    "echo \"show the contents of README.md\"\n",
    "echo \"\"\n",
    "\n",
    "cat README.md  # show contents of file, in this case markdown\n",
    "echo \"\"\n",
    "echo \"end of README.md\"\n"
   ]
  },
  {
   "attachments": {},
   "cell_type": "markdown",
   "metadata": {},
   "source": [
    "## Env, Git and GitHub\n",
    "> Env(ironment) is used to capture things like path to Code or Home directory.  Git and GitHub is NOT Only used to exchange code between individuals, it is often used to exchange code through servers, in our case deployment for Website.   All tools we use have a behind the scenes relationships with the system they run on (MacOS, Windows, Linus) or a relationship with servers which they are connected to (ie GitHub).  There is an \"env\" command in bash.  There are environment files and setting files (.git/config) for Git.  They both use a key/value concept.\n",
    "\n",
    "- \"env\" show setting for your shell\n",
    "- \"git clone\" sets up a director of files\n",
    "- \"cd $project\" allows user to move inside that directory of files\n",
    "- \".git\" is a hidden directory that is used by git to establish relationship between machine and the git server on GitHub.  "
   ]
  },
  {
   "cell_type": "code",
   "execution_count": null,
   "metadata": {
    "vscode": {
     "languageId": "shellscript"
    }
   },
   "outputs": [],
   "source": [
    "%%script bash\n",
    "\n",
    "# This command has no dependencies\n",
    "\n",
    "echo \"Show the shell environment variables, key on left of equal value on right\"\n",
    "echo \"\"\n",
    "\n",
    "env"
   ]
  },
  {
   "cell_type": "code",
   "execution_count": null,
   "metadata": {
    "vscode": {
     "languageId": "shellscript"
    }
   },
   "outputs": [],
   "source": [
    "%%script bash\n",
    "\n",
    "# Extract saved variables\n",
    "source /tmp/variables.sh\n",
    "\n",
    "cd $project\n",
    "\n",
    "echo \"\"\n",
    "echo \"show the secrets of .git\"\n",
    "cd .git\n",
    "ls -l\n",
    "\n",
    "echo \"\"\n",
    "echo \"look at config file\"\n",
    "cat config"
   ]
  },
  {
   "attachments": {},
   "cell_type": "markdown",
   "metadata": {},
   "source": [
    "## Advanced Student Request - Make a file in Bash\n",
    "> This example was requested by a student (Jun Lim, CSA). The request was to make jupyer file using bash, I adapted the request to markdown.  This type of thought will have great extrapolation to coding and possibilities of using List, Arrays, or APIs to build user interfaces.  JavaScript is a language where building HTML is very common.\n",
    "\n",
    "> To get more interesting output from terminal, this will require using something like mdless (https://github.com/ttscoff/mdless).  This enables see markdown in rendered format.\n",
    "- On Desktop [Install PKG from MacPorts](https://www.macports.org/install.php)\n",
    "- In Terminal on MacOS\n",
    "    - [Install ncurses](https://ports.macports.org/port/ncurses/)\n",
    "    - ```gem install mdless```\n",
    "    \n",
    "> Output of the example is much nicer in \"jupyter\""
   ]
  },
  {
   "cell_type": "code",
   "execution_count": null,
   "metadata": {
    "vscode": {
     "languageId": "shellscript"
    }
   },
   "outputs": [],
   "source": [
    "%%script bash\n",
    "\n",
    "# This example has error in VSCode, it run best on Jupyter\n",
    "cd /tmp\n",
    "\n",
    "file=\"sample.md\"\n",
    "if [ -f \"$file\" ]; then\n",
    "    rm $file\n",
    "fi\n",
    "\n",
    "tee -a $file >/dev/null <<EOF\n",
    "# Show Generated Markdown\n",
    "This introductory paragraph and this line and the title above are generated using tee with the standard input (<<) redirection operator.\n",
    "- This bulleted element is still part of the tee body.\n",
    "EOF\n",
    "\n",
    "echo \"- This bulleted element and lines below are generated using echo with standard output (>>) redirection operator.\" >> $file\n",
    "echo \"- The list definition, as is, is using space to seperate lines.  Thus the use of commas and hyphens in output.\" >> $file\n",
    "actions=(\"ls,list-directory\" \"cd,change-directory\" \"pwd,present-working-directory\" \"if-then-fi,test-condition\" \"env,bash-environment-variables\" \"cat,view-file-contents\" \"tee,write-to-output\" \"echo,display-content-of-string\" \"echo_text_>\\$file,write-content-to-file\" \"echo_text_>>\\$file,append-content-to-file\")\n",
    "for action in ${actions[@]}; do  # for loop is very similar to other language, though [@], semi-colon, do are new\n",
    "  action=${action//-/ }  # convert dash to space\n",
    "  action=${action//,/: } # convert comma to colon\n",
    "  action=${action//_text_/ \\\"sample text\\\" } # convert _text_ to sample text, note escape character \\ to avoid \"\" having meaning\n",
    "  echo \"    - ${action//-/ }\" >> $file  # echo is redirected to file with >>\n",
    "done\n",
    "\n",
    "echo \"\"\n",
    "echo \"File listing and status\"\n",
    "ls -l $file # list file\n",
    "wc $file   # show words\n",
    "mdless $file  # this requires installation, but renders markown from terminal\n",
    "\n",
    "rm $file  # clean up termporary file"
   ]
  },
  {
   "attachments": {},
   "cell_type": "markdown",
   "metadata": {},
   "source": [
    "## Hack Preparation.\n",
    "> Review Tool Setup Procedures and think about some thing you could verify through a Shell notebook.\n",
    "- Come up with your own student view of this procedure to show your tools are installed.  It is best that you keep the few things you understand, add things later as you start to understand them.\n",
    "- Name and create blog notes on some Linux commands you will use frequently.\n",
    "- Is there anything we use to verify tools we installed? Review versions?\n",
    "- How would you update a repository?  Use the git command line? \n"
   ]
  }
 ],
 "metadata": {
  "kernelspec": {
   "display_name": "Bash",
   "language": "bash",
   "name": "bash"
  },
  "language_info": {
   "codemirror_mode": "shell",
   "file_extension": ".sh",
   "mimetype": "text/x-sh",
   "name": "bash"
  },
  "vscode": {
   "interpreter": {
    "hash": "aee8b7b246df8f9039afb4144a1f6fd8d2ca17a180786b69acc140d282b71a49"
   }
  }
 },
 "nbformat": 4,
 "nbformat_minor": 2
}
