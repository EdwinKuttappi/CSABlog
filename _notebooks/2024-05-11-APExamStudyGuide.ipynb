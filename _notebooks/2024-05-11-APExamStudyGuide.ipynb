{
 "cells": [
  {
   "cell_type": "markdown",
   "metadata": {},
   "source": [
    "---\n",
    "title: APCSA AP Exam Study Guide\n",
    "layout: default\n",
    "description: Compiling all the units together \n",
    "courses: { csa: {week: 12} }\n",
    "type: hacks\n",
    "---"
   ]
  },
  {
   "cell_type": "markdown",
   "metadata": {},
   "source": [
    "# Unit 1\n",
    "While this is not a significant portion of the exam, the topics covered in this unit are ESSENTIAL to succeeding in this course. AP Computer Science A (or AP CSA for short) is a course that builds on previous topics covered, so make sure you know this unit inside and out, and come back to review it frequently. You will use these foundations in every subsequent unit."
   ]
  },
  {
   "cell_type": "markdown",
   "metadata": {},
   "source": [
    "## 1.1\n",
    "Programming is the process of writing that code. With programming, you can build websites, mobile apps, Chrome extensions, and many other types of software. This software can make your life more convenient and can be used to help others as well."
   ]
  },
  {
   "cell_type": "code",
   "execution_count": null,
   "metadata": {
    "vscode": {
     "languageId": "shellscript"
    }
   },
   "outputs": [
    {
     "name": "stdout",
     "output_type": "stream",
     "text": [
      "public: command not found\n",
      "bash: syntax error near unexpected token `('\n",
      "bash: syntax error near unexpected token `\"Hello World!\"'\n",
      "bash: syntax error near unexpected token `}'\n",
      "bash: syntax error near unexpected token `}'\n"
     ]
    },
    {
     "ename": "",
     "evalue": "2",
     "output_type": "error",
     "traceback": []
    }
   ],
   "source": [
    "public class Main {\n",
    "    public static void main(String[] args) {\n",
    "        System.out.prinln(\"Hello World!\");\n",
    "    }\n",
    "}"
   ]
  },
  {
   "cell_type": "code",
   "execution_count": null,
   "metadata": {
    "vscode": {
     "languageId": "shellscript"
    }
   },
   "outputs": [],
   "source": []
  },
  {
   "cell_type": "markdown",
   "metadata": {},
   "source": [
    "## 1.2\n"
   ]
  },
  {
   "cell_type": "code",
   "execution_count": null,
   "metadata": {
    "vscode": {
     "languageId": "shellscript"
    }
   },
   "outputs": [],
   "source": [
    "int age;\n",
    "age = 15;\n",
    "\n",
    "int age = 15;\n",
    "\n",
    "// Inputs\n",
    "import java.util.Scanner;\n",
    "Scanner input = new Scanner(System.in);"
   ]
  },
  {
   "cell_type": "markdown",
   "metadata": {},
   "source": [
    "## 1.3"
   ]
  },
  {
   "cell_type": "code",
   "execution_count": 3,
   "metadata": {
    "vscode": {
     "languageId": "shellscript"
    }
   },
   "outputs": [
    {
     "name": "stdout",
     "output_type": "stream",
     "text": [
      "Command 'int' not found, but there are 19 similar ones.\n",
      "Command 'int' not found, but there are 19 similar ones.\n",
      "Command 'int' not found, but there are 19 similar ones.\n",
      "Command 'int' not found, but there are 19 similar ones.\n",
      "Command 'int' not found, but there are 19 similar ones.\n",
      "Command 'double' not found, but can be installed with:\n",
      "sudo apt install plotutils\n"
     ]
    },
    {
     "ename": "",
     "evalue": "127",
     "output_type": "error",
     "traceback": []
    }
   ],
   "source": [
    "int ab = 5 + 2;\n",
    "int bc = 5 - 2;\n",
    "int cd = 5 * 2;\n",
    "int de = 5 / 2;\n",
    "int ef = 5 % 2;\n",
    "\n",
    "double ab2 = 5 / 2.0;"
   ]
  },
  {
   "cell_type": "markdown",
   "metadata": {},
   "source": [
    "## 1.4"
   ]
  },
  {
   "cell_type": "code",
   "execution_count": null,
   "metadata": {
    "vscode": {
     "languageId": "shellscript"
    }
   },
   "outputs": [],
   "source": [
    "int age = 5\n",
    "\n",
    "// Compound Operators\n",
    "age = age + 1;\n",
    "age += 3;\n",
    "age++;"
   ]
  },
  {
   "cell_type": "markdown",
   "metadata": {},
   "source": [
    "## 1.5"
   ]
  },
  {
   "cell_type": "markdown",
   "metadata": {},
   "source": []
  },
  {
   "cell_type": "markdown",
   "metadata": {},
   "source": [
    "## Printing and Comments\n",
    "The System.out.print and System.out.println methods are used to send output for display\n",
    "on the console. The only difference between them is that the println method moves the cursor to a new\n",
    "line after displaying the given data, while the print method does not.\n",
    "A comment is any text in a source code file that is marked to not be executed by the computer. In Java,\n",
    "single line comments are denoted by //, and multiline comments are demarcated by /* and */, as in the\n",
    "following examples:\n",
    "// this is a single line comment\n",
    "/*\n",
    "This is a multiline comment.\n",
    "All of this will be ignored by the computer. "
   ]
  },
  {
   "cell_type": "markdown",
   "metadata": {},
   "source": [
    "## Data Types\n",
    "Every value in a program is of a certain type, and that type determines what operations can be performed on the value. Every type is categorized as being either a primitive type or a reference type.\n",
    "\n",
    "Though Java has eight primitive types, only the three shown in the table below are used in AP Computer Science A. All primitive data can be represented using literals, which are representations in code of exact\n",
    "values.\n",
    "\n",
    "![DataTypes](https//github.com/EdwinKuttappi/CSABlog/images/)"
   ]
  }
 ],
 "metadata": {
  "kernelspec": {
   "display_name": "Bash",
   "language": "bash",
   "name": "bash"
  },
  "language_info": {
   "codemirror_mode": "shell",
   "file_extension": ".sh",
   "mimetype": "text/x-sh",
   "name": "bash"
  }
 },
 "nbformat": 4,
 "nbformat_minor": 2
}
