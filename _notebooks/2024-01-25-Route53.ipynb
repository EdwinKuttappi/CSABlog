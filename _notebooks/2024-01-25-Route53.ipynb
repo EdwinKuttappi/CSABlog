{
 "cells": [
  {
   "cell_type": "markdown",
   "metadata": {},
   "source": [
    "---\n",
    "layout: post\n",
    "title: Route 53\n",
    "description: Using Route 53\n",
    "courses: { csa: {week: 20} }\n",
    "type: tangibles\n",
    "---"
   ]
  },
  {
   "cell_type": "markdown",
   "metadata": {},
   "source": [
    "# Route 53\n",
    "You should get the IP address of your instance and save it somewhere before this. You will see why soon.\n",
    "\n",
    "Navigate back to your AWS homepage, the one you just landed on when you logged in (click the AWS button in the top left corner).\n",
    "\n",
    "Now is the time for us to configure our domain names (or subdomains) so that we can actually see our site. Our reverse proxy needs the domain name to link our actual site to the name, and without that, our deployment will not work (there is a long story why, if you want to know please ask!).\n",
    "\n",
    "We use domain names to point text towards our IP’s that are hosting our servers. The process is called DNS resolution.\n",
    "\n",
    "![image](https://d1.awsstatic.com/Route53/how-route-53-routes-traffic.8d313c7da075c3c7303aaef32e89b5d0b7885e7c.png)\n",
    "\n",
    "\n",
    "AWS Route 53 allows us to take one domain and split it into multiple domains while linking them to our EC2 instances by the IP Adresses and the nginx configuration of the instances.\n",
    "\n",
    "First, we go to the search bar and search “Route 53”. We then click on it (I would also star it) so it takes us to the Route 53 Homepage.\n",
    "\n",
    "![image](https://rackets-assets.vercel.app/assets/deployment_lesson/Deployment_AWS_Page_14.png)"
   ]
  }
 ],
 "metadata": {
  "language_info": {
   "name": "python"
  }
 },
 "nbformat": 4,
 "nbformat_minor": 2
}
