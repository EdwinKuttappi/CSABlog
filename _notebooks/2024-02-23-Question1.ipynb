{
 "cells": [
  {
   "cell_type": "markdown",
   "metadata": {},
   "source": [
    "---\n",
    "layout: post\n",
    "comments: true\n",
    "title: 2015 FRQ Number 1\n",
    "description: questions and answers to the frq number 1\n",
    "courses: { csa: {week: 24} }\n",
    "type: hacks\n",
    "---"
   ]
  },
  {
   "cell_type": "markdown",
   "metadata": {},
   "source": [
    "# Part a\n",
    "(a) Write a static method arraySum that calculates and returns the sum of the entries in a specified one-dimensional array. The following example shows an array arr1 and the value returned by a call to arraySum."
   ]
  },
  {
   "cell_type": "code",
   "execution_count": 1,
   "metadata": {},
   "outputs": [
    {
     "name": "stdout",
     "output_type": "stream",
     "text": [
      "16\n"
     ]
    }
   ],
   "source": [
    "public static int arraySum(int [] arr){\n",
    "    int sum = 0;\n",
    "\n",
    "    for (int num: arr) {\n",
    "        sum += num;\n",
    "    }\n",
    "    return sum;\n",
    "}\n",
    "\n",
    "public class partA {\n",
    "    public static void main(String[] args) {\n",
    "        int[] mat1 = {1,3,2,7,3};\n",
    "        \n",
    "        int sum = arraySum(mat1);\n",
    "        System.out.println(sum);\n",
    "    }\n",
    "}\n",
    "partA.main(null);"
   ]
  },
  {
   "cell_type": "markdown",
   "metadata": {},
   "source": [
    "# Part b\n",
    "(b) Write a static method rowSums that calculates the sums of each of the rows in a given two-dimensional array and returns these sums in a one-dimensional array. The method has one parameter, a two-dimensional array arr2D of int values. The array is in row-major order: arr2D [ r ] [c ] is the entry at row r and column c. The method returns a one-dimensional array with one entry for each row of arr2D such that each entry is the sum of the corresponding row in arr2D. As a reminder, each row of a two-dimensional array is a one-dimensional array."
   ]
  },
  {
   "cell_type": "code",
   "execution_count": 23,
   "metadata": {},
   "outputs": [
    {
     "name": "stdout",
     "output_type": "stream",
     "text": [
      "Row 0 sum: 16\n",
      "Row 1 sum: 32\n",
      "Row 2 sum: 28\n",
      "Row 3 sum: 20\n"
     ]
    }
   ],
   "source": [
    "public static int[] rowSums(int[][] mat1) {\n",
    "    int[] values = new int[mat1.length];\n",
    "\n",
    "    for (int k = 0; k < values.length; k++) {\n",
    "        values[k] = arraySum(mat1[k]);\n",
    "    }\n",
    "    return values;\n",
    "}\n",
    "\n",
    "public class partB {\n",
    "    public static void main(String[] args) {\n",
    "        int[][] mat1 = {\n",
    "            {1, 3, 2, 7, 3},\n",
    "            {10, 10, 4, 6, 2},\n",
    "            {5, 3, 5, 9, 6},\n",
    "            {7, 6, 4, 2, 1}\n",
    "        };\n",
    "        int[] sums = rowSums(mat1);\n",
    "\n",
    "        for(int i = 0; i < sums.length; i++){\n",
    "            System.out.println(\"Row \" + i + \" sum: \" + sums[i]);\n",
    "        }\n",
    "    }\n",
    "}\n",
    "partB.main(null)"
   ]
  },
  {
   "cell_type": "markdown",
   "metadata": {},
   "source": [
    "# Part c\n",
    "A two-dimensional array is diverse if no two of its rows have entries that sum to the same value. In the following examples, the array mat1 is diverse because each row sum is different, but the array mat2 is not diverse because the first and last rows have the same sum."
   ]
  },
  {
   "cell_type": "code",
   "execution_count": 22,
   "metadata": {},
   "outputs": [
    {
     "name": "stdout",
     "output_type": "stream",
     "text": [
      "mat1 is true\n",
      "mat2 is false\n"
     ]
    }
   ],
   "source": [
    "public static boolean isDiverse(int[][] arr2D) {\n",
    "    int[] values = rowSums(arr2D);\n",
    "\n",
    "    for(int k = 0; k < values.length; k++){\n",
    "        for(int i = k + 1; i < values.length; i++)\n",
    "            if(values[k] == values[i]) {\n",
    "                return false;\n",
    "            }\n",
    "    }\n",
    "    return true;\n",
    "}\n",
    "\n",
    "public class partC {\n",
    "    public static void main(String[][] args) {\n",
    "        int[][] mat1 = {\n",
    "            {1, 3, 2, 7, 3},\n",
    "            {10, 10, 4, 6, 2},\n",
    "            {5, 3, 5, 9, 6},\n",
    "            {7, 6, 4, 2, 1}\n",
    "        };\n",
    "        int[][] mat2 = {\n",
    "            {1, 1, 5, 3, 4},\n",
    "            {12, 7, 6, 1, 9},\n",
    "            {8, 11, 10, 2, 5},\n",
    "            {3, 2, 3, 0, 6}\n",
    "        };\n",
    "        \n",
    "        System.out.println(\"mat1 is \" + isDiverse(mat1));\n",
    "        System.out.println(\"mat2 is \" + isDiverse(mat2));\n",
    "    }\n",
    "}\n",
    "partC.main(null)"
   ]
  },
  {
   "cell_type": "markdown",
   "metadata": {},
   "source": [
    "# Summary of FRQ 1\n",
    "This is a ArrayList question that asks you to manipulate 2D Arrays and 1D Arrays and asks you to find the sum of each row within the 2D Array. This is specifically asking about Diverse Array which is seen in part c. The key algorithms in part a asks us to calculate the sum of that specific row. The key algorithms in part b asks us to calculate the sums of each row in the whole array list. The key algorithms in part c asks us to see if the arrays are . diverse or not. These all match the FRQ type of Arrays because it includes different methods on how to manipulate arrays which is what the focus of this FRQ is about.\n",
    "\n",
    "Stats:\n",
    "**Time:** *23 minutes*\n",
    "\n",
    "**Date Completed:** *February 24th, 2023*\n",
    "\n",
    "**CollegeBoard Scoring**: *9/9*\n",
    "\n",
    "**Personal Ranking:** 1"
   ]
  },
  {
   "cell_type": "markdown",
   "metadata": {},
   "source": [
    "# Scoring\n",
    "This question was worth 9 points\n",
    "\n",
    "## part a:\n",
    "- +1 for Accesses all elements of <code>arr</code>\n",
    "- +1 for Initializes, computes, and returns sum of elements\n",
    "\n",
    "## part b:\n",
    "- +1 for Constructs correctly-sized 1D array of ints\n",
    "- +1 for Accesses all words in<code>arr2D</code>\n",
    "- +1 for Computes sum of row in <code>arr2D</code> using <code>arraySum</code> and assigns to element in 1D Array\n",
    "- +1 for Returns 1D Array where kth element is computed sum of corresponding row in 2D Array for all rows\n",
    "\n",
    "## part c:\n",
    "- +1 for Computes and uses array of row sums from arr2D using <code>rowSums</code>\n",
    "- +1 for Compare all and only pairs of row sums for equality\n",
    "- +1 for Returns <code>true</code> if all compared row sums are different and <code>false</code> otherwise\n",
    "\n",
    "## question specific penalties:\n",
    "- -0 for uses <code>getLength/getSize</code> for array size\n",
    "- -0 for Destruction of persistent data <code>(arr or arr2D)</code>"
   ]
  }
 ],
 "metadata": {
  "kernelspec": {
   "display_name": "Java",
   "language": "java",
   "name": "java"
  },
  "language_info": {
   "codemirror_mode": "java",
   "file_extension": ".jshell",
   "mimetype": "text/x-java-source",
   "name": "java",
   "pygments_lexer": "java",
   "version": "20.0.2+9"
  }
 },
 "nbformat": 4,
 "nbformat_minor": 2
}
