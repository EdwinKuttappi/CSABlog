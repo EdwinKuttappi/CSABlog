{
 "cells": [
  {
   "cell_type": "markdown",
   "metadata": {},
   "source": [
    "---\n",
    "layout: post\n",
    "title: Edwin's Unit 4 Lesson\n",
    "toc: true\n",
    "comments: true\n",
    "description: Trying to use local storage to make a database\n",
    "courses: { csa: {week: 8} }\n",
    "type: hacks\n",
    "---"
   ]
  },
  {
   "cell_type": "markdown",
   "metadata": {},
   "source": [
    "# Iteration\n",
    "According to CollegeBoard, **Iteration** is a way to simplify code that would otherwise be repeated many times in succession. Using loops, we can finally implement complex algorithms and solutions to common problems that we weren't able to before. In this unit, we will learn two types of loops: the while loop and the for loop.\n",
    "\n",
    "Basically, Iteration is repeat sequences to simplify code of advanced algorithms."
   ]
  },
  {
   "cell_type": "markdown",
   "metadata": {},
   "source": [
    "### Popcorn Hack\n",
    "<details hidden>"
   ]
  },
  {
   "cell_type": "code",
   "execution_count": null,
   "metadata": {
    "vscode": {
     "languageId": "java"
    }
   },
   "outputs": [],
   "source": [
    "// Popcorn Hack\n",
    "int i = 0;\n",
    "System.out.println(i);\n",
    "i++;\n",
    "System.out.println(i);\n",
    "i++;\n",
    "System.out.println(i);\n",
    "i++;\n",
    "System.out.println(i);\n",
    "i++;\n",
    "System.out.println(i);\n",
    "i++;"
   ]
  }
 ],
 "metadata": {
  "language_info": {
   "name": "python"
  }
 },
 "nbformat": 4,
 "nbformat_minor": 2
}
