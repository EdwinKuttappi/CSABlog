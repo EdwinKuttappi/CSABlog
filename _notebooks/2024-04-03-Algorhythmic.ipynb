{
 "cells": [
  {
   "cell_type": "markdown",
   "metadata": {},
   "source": [
    "---\n",
    "title: Algorhythmic Blog\n",
    "layout: default\n",
    "description: blog on the algorhythmic performance done with my group JCC\n",
    "courses: { csa: {week: 28} }\n",
    "type: hacks\n",
    "---"
   ]
  },
  {
   "cell_type": "markdown",
   "metadata": {},
   "source": [
    "# Our sort\n",
    "Our sort is the selection sort in which we will be enacting a skit that will show how selection sort works"
   ]
  },
  {
   "cell_type": "markdown",
   "metadata": {},
   "source": [
    "# Dev.to\n",
    "Here is a code chunk taken directly from a link provided by Mr. Mortensen done to Dev.to. This code has been done in python and I also try to recreate in Java so that I can get it on our sorting project. Also from this website, is a gif of how the selection sort is supposed to work which helps to realize how it should be done.\n",
    "\n",
    "## Selection Sort\n",
    "\n",
    "![selectionSort](https://res.cloudinary.com/practicaldev/image/fetch/s--j6iFl-xt--/c_limit%2Cf_auto%2Cfl_progressive%2Cq_66%2Cw_800/https://res.cloudinary.com/practicaldev/image/fetch/s--OQMj34Rc--/c_limit%252Cf_auto%252Cfl_progressive%252Cq_66%252Cw_880/https://upload.wikimedia.org/wikipedia/commons/9/94/Selection-Sort-Animation.gif)"
   ]
  },
  {
   "cell_type": "code",
   "execution_count": 4,
   "metadata": {},
   "outputs": [
    {
     "name": "stdout",
     "output_type": "stream",
     "text": [
      "[0, 1, 2, 3, 4, 5]\n"
     ]
    }
   ],
   "source": [
    "data = [3, 1, 2, 0, 4, 5]\n",
    "\n",
    "def selectionSort(data):\n",
    "    for scanIndex in range(len(data)):\n",
    "        minIndex = scanIndex\n",
    "\n",
    "        for compIndex in range(scanIndex + 1, len(data)):\n",
    "            if data[compIndex] < data[minIndex]:\n",
    "                minIndex = compIndex\n",
    "\n",
    "        if minIndex != scanIndex:\n",
    "            data[scanIndex], data[minIndex] = data[minIndex], data[scanIndex]\n",
    "\n",
    "    return data\n",
    "\n",
    "data = [0, 1, 2, 3, 4, 5]\n",
    "sorted_data = selectionSort(data)\n",
    "print(sorted_data)\n"
   ]
  },
  {
   "cell_type": "markdown",
   "metadata": {},
   "source": [
    "# Other Sorts\n",
    "There are 7 other sorts that were included within the blog from Dev.to, some of the other 4 teams will cover these other sorts, while there are some that won't be shown in algorhythmic performances but will be seen in the blogs of students\n",
    "\n",
    "## Bubble Sort\n",
    "![BubbleSort](https://res.cloudinary.com/practicaldev/image/fetch/s--y08-dItD--/c_limit%2Cf_auto%2Cfl_progressive%2Cq_66%2Cw_800/https://upload.wikimedia.org/wikipedia/commons/c/c8/Bubble-sort-example-300px.gif)"
   ]
  },
  {
   "cell_type": "code",
   "execution_count": 2,
   "metadata": {},
   "outputs": [
    {
     "name": "stdout",
     "output_type": "stream",
     "text": [
      "[0, 1, 2, 3, 4, 5]\n"
     ]
    }
   ],
   "source": [
    "data = [5, 4, 3, 2, 1, 0]\n",
    "\n",
    "def bubbleSort(data):\n",
    "    length = len(data)\n",
    "\n",
    "    for iIndex in range(length):\n",
    "        swapped = False\n",
    "\n",
    "        for jIndex in range(0, length - iIndex - 1):\n",
    "\n",
    "            if data[jIndex] > data[jIndex + 1]:\n",
    "                data[jIndex], data[jIndex + 1] = data[jIndex + 1], data[jIndex]\n",
    "                swapped = True\n",
    "\n",
    "        if not swapped:\n",
    "            break\n",
    "\n",
    "    return data\n",
    "\n",
    "sorted_data = bubbleSort(data)\n",
    "print(sorted_data)\n"
   ]
  },
  {
   "cell_type": "markdown",
   "metadata": {},
   "source": [
    "## Insertion Sort\n",
    "![InsertionSort](https://res.cloudinary.com/practicaldev/image/fetch/s---SHUAD41--/c_limit%2Cf_auto%2Cfl_progressive%2Cq_66%2Cw_800/https://upload.wikimedia.org/wikipedia/commons/0/0f/Insertion-sort-example-300px.gif)"
   ]
  },
  {
   "cell_type": "code",
   "execution_count": 5,
   "metadata": {},
   "outputs": [
    {
     "name": "stdout",
     "output_type": "stream",
     "text": [
      "[0, 1, 2, 3, 4, 5]\n"
     ]
    }
   ],
   "source": [
    "data = [5, 4, 3, 2, 1, 0]\n",
    "\n",
    "def insertionSort(data):\n",
    "    for scanIndex in range(1, len(data)):\n",
    "        tmp = data[scanIndex]\n",
    "        minIndex = scanIndex\n",
    "\n",
    "        while minIndex > 0 and tmp < data[minIndex - 1]:\n",
    "            data[minIndex] = data[minIndex - 1]\n",
    "            minIndex -= 1\n",
    "\n",
    "        data[minIndex] = tmp\n",
    "\n",
    "    return data\n",
    "\n",
    "sorted_data = insertionSort(data)\n",
    "print(sorted_data)"
   ]
  },
  {
   "cell_type": "markdown",
   "metadata": {},
   "source": [
    "## Quick Sort\n",
    "![QuickSort](https://res.cloudinary.com/practicaldev/image/fetch/s--sYhGyrQ_--/c_limit%2Cf_auto%2Cfl_progressive%2Cq_66%2Cw_800/https://upload.wikimedia.org/wikipedia/commons/9/9c/Quicksort-example.gif)"
   ]
  },
  {
   "cell_type": "code",
   "execution_count": 8,
   "metadata": {},
   "outputs": [
    {
     "name": "stdout",
     "output_type": "stream",
     "text": [
      "[0, 1, 2, 3, 4, 5]\n"
     ]
    }
   ],
   "source": [
    "data = [5, 4, 3, 2, 1, 0]\n",
    "\n",
    "def quickSort(data, left, right):\n",
    "    if right <= left:\n",
    "        return \n",
    "    else:\n",
    "        pivot = partition(data, left, right)\n",
    "        quickSort(data, left, pivot - 1)\n",
    "        quickSort(data, pivot + 1, right)\n",
    "\n",
    "    return data\n",
    "\n",
    "def partition(data, left, right):\n",
    "    \"\"\"This function chooses a pivot point that determines the left and right side of the sort\"\"\"\n",
    "    pivot = data[left]\n",
    "    leftIndex = left + 1\n",
    "    rightIndex = right\n",
    "\n",
    "    while True:\n",
    "        while leftIndex <= rightIndex and data[leftIndex] <= pivot:\n",
    "            leftIndex += 1\n",
    "        while rightIndex >= leftIndex and data[rightIndex] >= pivot:\n",
    "            rightIndex -= 1\n",
    "        if rightIndex <= leftIndex:\n",
    "            break\n",
    "        data[leftIndex], data[rightIndex] = data[rightIndex], data[leftIndex]\n",
    "\n",
    "    data[left], data[rightIndex] = data[rightIndex], data[left]\n",
    "\n",
    "    return rightIndex\n",
    "\n",
    "sorted_data = quickSort(data, 0, len(data) - 1)\n",
    "print(sorted_data)\n"
   ]
  },
  {
   "cell_type": "markdown",
   "metadata": {},
   "source": [
    "## Merge Sort\n",
    "![MergeSort](https://res.cloudinary.com/practicaldev/image/fetch/s--KkRLBwf_--/c_limit%2Cf_auto%2Cfl_progressive%2Cq_66%2Cw_800/https://upload.wikimedia.org/wikipedia/commons/c/cc/Merge-sort-example-300px.gif)"
   ]
  },
  {
   "cell_type": "code",
   "execution_count": 21,
   "metadata": {},
   "outputs": [
    {
     "name": "stdout",
     "output_type": "stream",
     "text": [
      "[0, 1, 2, 3, 4, 5]\n"
     ]
    }
   ],
   "source": [
    "data = [5, 4, 3, 2, 1, 0]\n",
    "\n",
    "def mergeSort(data):\n",
    "\n",
    "    if len(data) < 2:\n",
    "        return data\n",
    "\n",
    "    middle = len(data) // 2\n",
    "\n",
    "    left = mergeSort(data[:middle])\n",
    "    right = mergeSort(data[middle:])\n",
    "\n",
    "    merged = merge(left, right)\n",
    "    return merged\n",
    "\n",
    "def merge(left, right):\n",
    "\n",
    "    if not len(left):\n",
    "        return right\n",
    "\n",
    "    if not len(right):\n",
    "        return left\n",
    "\n",
    "    result = []\n",
    "    leftIndex = 0\n",
    "    rightIndex = 0\n",
    "\n",
    "    while leftIndex < len(left) and rightIndex < len(right):\n",
    "        if left[leftIndex] < right[rightIndex]:\n",
    "            result.append(left[leftIndex])\n",
    "            leftIndex += 1\n",
    "        else:\n",
    "            result.append(right[rightIndex])\n",
    "            rightIndex += 1\n",
    "\n",
    "    result.extend(left[leftIndex:])\n",
    "    result.extend(right[rightIndex:])\n",
    "\n",
    "    return result\n",
    "\n",
    "sorted_data = mergeSort(data)\n",
    "print(sorted_data)"
   ]
  },
  {
   "cell_type": "markdown",
   "metadata": {},
   "source": [
    "## Bucket Sort\n",
    "This was a sort that I didn't know existed and it was interesting to learn about this sort.\n",
    "\n",
    "![BucketSort](https://res.cloudinary.com/practicaldev/image/fetch/s--hlVOc6Dv--/c_limit%2Cf_auto%2Cfl_progressive%2Cq_auto%2Cw_800/https://upload.wikimedia.org/wikipedia/commons/thumb/e/e3/Bucket_sort_2.svg/311px-Bucket_sort_2.svg.png)"
   ]
  },
  {
   "cell_type": "code",
   "execution_count": 15,
   "metadata": {},
   "outputs": [
    {
     "name": "stdout",
     "output_type": "stream",
     "text": [
      "[0.1234, 0.3434, 0.565, 0.656, 0.665, 0.897]\n"
     ]
    }
   ],
   "source": [
    "data = [0.897, 0.565, 0.656, 0.1234, 0.665, 0.3434]\n",
    "\n",
    "def bucketSort(data):\n",
    "    if not data:\n",
    "        return data\n",
    "\n",
    "    max_value = max(data)\n",
    "    min_value = min(data)\n",
    "    bucket_range = (max_value - min_value) / len(data) if len(data) > 1 else 1\n",
    "    bucket = [[] for _ in range(len(data))]\n",
    "\n",
    "    for value in data:\n",
    "        index_bucket = min(int((value - min_value) / bucket_range), len(data) - 1)\n",
    "        bucket[index_bucket].append(value)\n",
    "\n",
    "    for sublist in bucket:\n",
    "        sublist.sort()\n",
    "\n",
    "    sorted_data = []\n",
    "    for sublist in bucket:\n",
    "        sorted_data.extend(sublist)\n",
    "\n",
    "    return sorted_data\n",
    "\n",
    "sorted_data = bucketSort(data)\n",
    "print(sorted_data)\n"
   ]
  },
  {
   "cell_type": "markdown",
   "metadata": {},
   "source": [
    "## Shell Sort\n",
    "This was another sort that I didn't know of, but based on the animated picture, it seems like it is similar to Selection Sort, but doesn't start at the minimum\n",
    "\n",
    "![ShellSort](https://res.cloudinary.com/practicaldev/image/fetch/s--NWQbu0c8--/c_limit%2Cf_auto%2Cfl_progressive%2Cq_66%2Cw_800/https://thumbs.gfycat.com/MarriedImpassionedIaerismetalmark-size_restricted.gif)"
   ]
  },
  {
   "cell_type": "code",
   "execution_count": 19,
   "metadata": {},
   "outputs": [
    {
     "name": "stdout",
     "output_type": "stream",
     "text": [
      "[2, 3, 12, 34, 54]\n"
     ]
    }
   ],
   "source": [
    "data = [12, 34, 54, 2, 3]\n",
    "\n",
    "def shellSort(data):\n",
    "    length = len(data)\n",
    "    gap = length // 2\n",
    "\n",
    "    while gap > 0:\n",
    "        for iIndex in range(gap, length):\n",
    "            temp = data[iIndex]\n",
    "            jIndex = iIndex\n",
    "\n",
    "            while jIndex >= gap and data[jIndex - gap] > temp:\n",
    "                data[jIndex] = data[jIndex - gap]\n",
    "                jIndex -= gap\n",
    "\n",
    "            data[jIndex] = temp\n",
    "\n",
    "        gap //= 2\n",
    "\n",
    "    return data\n",
    "\n",
    "sorted_data = shellSort(data)\n",
    "print(sorted_data)"
   ]
  },
  {
   "cell_type": "markdown",
   "metadata": {},
   "source": [
    "## Heap Sort\n",
    "Here is another sort that I don't know much about, I think it might have to do something with the storing data in the heap\n",
    "\n",
    "![HeapSort](https://res.cloudinary.com/practicaldev/image/fetch/s--Vc1pnzo0--/c_limit%2Cf_auto%2Cfl_progressive%2Cq_66%2Cw_800/https://upload.wikimedia.org/wikipedia/commons/f/fe/Heap_sort_example.gif)"
   ]
  },
  {
   "cell_type": "code",
   "execution_count": 20,
   "metadata": {},
   "outputs": [
    {
     "name": "stdout",
     "output_type": "stream",
     "text": [
      "[2, 3, 12, 34, 54]\n"
     ]
    }
   ],
   "source": [
    "data = [12, 34, 54, 2, 3]\n",
    "\n",
    "def createHeap(data, length, index):\n",
    "    largest = index\n",
    "    left = 2 * index + 1\n",
    "    right = 2 * index + 2\n",
    "\n",
    "    if left < length and data[largest] < data[left]:\n",
    "        largest = left\n",
    "\n",
    "    if right < length and data[largest] < data[right]:\n",
    "        largest = right\n",
    "\n",
    "    if largest != index:\n",
    "        data[index], data[largest] = data[largest], data[index]\n",
    "        createHeap(data, length, largest)\n",
    "\n",
    "def heapSort(data):\n",
    "    length = len(data)\n",
    "\n",
    "    for index in range(length // 2 - 1, -1, -1):\n",
    "        createHeap(data, length, index)\n",
    "\n",
    "    for index in range(length - 1, 0, -1):\n",
    "        data[index], data[0] = data[0], data[index]\n",
    "        createHeap(data, index, 0)\n",
    "\n",
    "    return data\n",
    "\n",
    "sorted_data = heapSort(data)\n",
    "print(sorted_data)"
   ]
  }
 ],
 "metadata": {
  "kernelspec": {
   "display_name": "Python 3",
   "language": "python",
   "name": "python3"
  },
  "language_info": {
   "codemirror_mode": {
    "name": "ipython",
    "version": 3
   },
   "file_extension": ".py",
   "mimetype": "text/x-python",
   "name": "python",
   "nbconvert_exporter": "python",
   "pygments_lexer": "ipython3",
   "version": "3.10.12"
  }
 },
 "nbformat": 4,
 "nbformat_minor": 2
}
