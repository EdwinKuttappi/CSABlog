{
 "cells": [
  {
   "cell_type": "markdown",
   "metadata": {},
   "source": [
    "---\n",
    "layout: post\n",
    "comments: true\n",
    "title: FRQ Number 1 - Methods and Controls FRQ 1\n",
    "description: my questions and answers to the frq number 1\n",
    "courses: { csa: {week: 27} }\n",
    "type: hacks\n",
    "---"
   ]
  },
  {
   "cell_type": "markdown",
   "metadata": {},
   "source": [
    "# Question 1: Primitive Types vs Reference Types\n",
    "Link to [MCQ Question](https://del-norte-farmers-iowa-hawkeyes-fanclub.github.io/Del-Norte-Association-of-Sustainable-Farmers-Saftey-OSHA-and-Fantasy-Log-Book/2024/03/12/ValueReferenceTypes_IPYNB_2_.html)"
   ]
  },
  {
   "cell_type": "markdown",
   "metadata": {},
   "source": [
    "Situation: You are developing a banking application where you need to represent customer information. You have decided to use both primitive types and reference types for this purpose."
   ]
  },
  {
   "cell_type": "markdown",
   "metadata": {},
   "source": [
    "## Part a\n",
    "**Define primitive types and reference types in Java. Provide examples of each.**\n",
    "\n",
    "Primitive types are basically boolean and numeric types such as char, byte, short, int, long, float, and double. Reference types are references to actual data which allows for us to access objects stored in another place "
   ]
  },
  {
   "cell_type": "markdown",
   "metadata": {},
   "source": [
    "## Part b\n",
    "Explain the differences between primitive types and reference types in terms of memory allocation and usage in Java programs."
   ]
  },
  {
   "cell_type": "markdown",
   "metadata": {},
   "source": [
    "## Part c"
   ]
  },
  {
   "cell_type": "markdown",
   "metadata": {},
   "source": [
    "# Lesson 1 Hacks\n",
    "Doing the hacks found on this [lesson](https://del-norte-farmers-iowa-hawkeyes-fanclub.github.io/Del-Norte-Association-of-Sustainable-Farmers-Saftey-OSHA-and-Fantasy-Log-Book/2024/03/12/ValueReferenceTypes_IPYNB_2_.html#value-types-primitive-types)\n",
    "\n",
    "## Part 1"
   ]
  },
  {
   "cell_type": "code",
   "execution_count": 1,
   "metadata": {
    "vscode": {
     "languageId": "java"
    }
   },
   "outputs": [
    {
     "name": "stdout",
     "output_type": "stream",
     "text": [
      "16\n"
     ]
    }
   ],
   "source": [
    "public class Person {\n",
    "    String name;\n",
    "    int age;\n",
    "    int height;\n",
    "    String job;\n",
    "\n",
    "    public Person(String name, int age, int height, String job) {\n",
    "        this.name = name;\n",
    "        this.age = age;\n",
    "        this.height = height;\n",
    "        this.job = job;\n",
    "    }\n",
    "}\n",
    "\n",
    "public static void main(String[] args) {\n",
    "    Person person1 = new Person(\"Carl\", 25, 165, \"Construction Worker\");\n",
    "    Person person2 = new Person(\"Adam\", 29, 160, \"Truck Driver\");\n",
    "    Person person3 = person1;\n",
    "    int number = 16;\n",
    "    System.out.println(number);\n",
    "}\n",
    "main(null);"
   ]
  },
  {
   "cell_type": "markdown",
   "metadata": {},
   "source": [
    "Answer the following questions based on the code above:\n",
    "\n",
    "1) What kind of types are person1 and person2?\n",
    "\n",
    "<code>person1</code> and <code>person2</code> are both objects from the Person class and can have attributes assigned to them from name, age, height, and job.\n",
    "\n",
    "2) Do person1 and person3 point to the same value in memory?\n",
    "\n",
    "<code>person1</code> and <code>person3</code> point to the same value in memory\n",
    "\n",
    "3) Is the integer 'number' stored in the heap or in the stack?\n",
    "\n",
    "The integer 'number' is probably stored in the stack because it is being called while it is being stored I believe, so that means that after the method is called and has finished running, the number value is cleared.\n",
    "\n",
    "4) Is the value that 'person1' points to stored in the heap or in the stack?\n",
    "\n",
    "The value that <code>person1</code> points to is stored in the heap because it once the application is running, it needs to get memory to store those values.\n",
    "\n",
    "## Part 2\n",
    "*Seen above as the FRQ*"
   ]
  },
  {
   "cell_type": "markdown",
   "metadata": {},
   "source": [
    "\n",
    "b) Do person1 and person3 point to the same value in memory?\n",
    "c) Is the integer 'number' stored in the heap or in the stack?\n",
    "d) Is the value that 'person1' points to stored in the heap or in the stack?\n",
    "\n",
    "## Part 2\n",
    "*Seen above as the FRQ*"
   ]
  }
 ],
 "metadata": {
  "kernelspec": {
   "display_name": "Java",
   "language": "java",
   "name": "java"
  },
  "language_info": {
   "codemirror_mode": "java",
   "file_extension": ".jshell",
   "mimetype": "text/x-java-source",
   "name": "Java",
   "pygments_lexer": "java",
   "version": "20.0.2+9"
  }
 },
 "nbformat": 4,
 "nbformat_minor": 2
}
