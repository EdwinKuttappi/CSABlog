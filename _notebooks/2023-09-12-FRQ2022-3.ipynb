{
 "cells": [
  {
   "cell_type": "markdown",
   "metadata": {},
   "source": [
    "---\n",
    "layout: post\n",
    "title: Checking FRQ's\n",
    "toc: true\n",
    "comments: true\n",
    "description: Reviewing the AP Exam FRQ's from 2022 for APCSA\n",
    "courses: { csa: {week: 4} }\n",
    "type: hacks\n",
    "---"
   ]
  },
  {
   "cell_type": "markdown",
   "metadata": {},
   "source": [
    "# 2022 FRQ Question 3\n",
    "\n",
    "3. Users of a website are asked to provide a review of the website at the end of each visit. Each review, represented by an object of the <code>Review</code> class, consists of an integer indicating the user's rating of the website and an optional <code>String</code> comment field. The comment field in a review object ends with a period (\".\"), exclamation point (\"!\"), or letter, or is a <code>String</code> of length 0 if the user did not enter a comment."
   ]
  },
  {
   "cell_type": "code",
   "execution_count": 4,
   "metadata": {
    "vscode": {
     "languageId": "java"
    }
   },
   "outputs": [
    {
     "ename": "CompilationException",
     "evalue": "",
     "output_type": "error",
     "traceback": [
      "\u001b[1m\u001b[30m|   \u001b[1m\u001b[30m\u001b[0m\u001b[1m\u001b[30m\u001b[41mReview.Review\u001b[0m\u001b[1m\u001b[30m(1, \"edwin\");\u001b[0m",
      "\u001b[1m\u001b[31mcannot find symbol\u001b[0m",
      "\u001b[1m\u001b[31m  symbol:   method Review(int,java.lang.String)\u001b[0m",
      ""
     ]
    }
   ],
   "source": [
    "public class Review\n",
    "{\n",
    "    private int rating;\n",
    "    private String comment;\n",
    "\n",
    "    public Review(int r, String c)\n",
    "    {\n",
    "        int rating = r;\n",
    "        String comment = c;\n",
    "    }\n",
    "\n",
    "    public int getRating()\n",
    "    {\n",
    "        return rating;\n",
    "    }\n",
    "\n",
    "    public String getComment()\n",
    "    {\n",
    "        return comment;\n",
    "    }\n",
    "}\n",
    "Review.Review(1, \"edwin\");\n",
    "Review.getComment();"
   ]
  }
 ],
 "metadata": {
  "kernelspec": {
   "display_name": "Java",
   "language": "java",
   "name": "java"
  },
  "language_info": {
   "codemirror_mode": "java",
   "file_extension": ".jshell",
   "mimetype": "text/x-java-source",
   "name": "Java",
   "pygments_lexer": "java",
   "version": "11.0.18+10-post-Ubuntu-0ubuntu122.04"
  },
  "orig_nbformat": 4
 },
 "nbformat": 4,
 "nbformat_minor": 2
}
