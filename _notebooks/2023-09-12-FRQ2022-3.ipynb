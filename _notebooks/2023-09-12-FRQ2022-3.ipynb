{
 "cells": [
  {
   "cell_type": "markdown",
   "metadata": {},
   "source": [
    "---\n",
    "layout: post\n",
    "title: Checking FRQ's\n",
    "toc: true\n",
    "comments: true\n",
    "description: Reviewing the AP Exam FRQ's from 2022 for APCSA\n",
    "courses: { csa: {week: 4} }\n",
    "type: hacks\n",
    "---"
   ]
  },
  {
   "cell_type": "markdown",
   "metadata": {},
   "source": [
    "# 2022 FRQ Question 3\n",
    "\n",
    "3. Users of a website are asked to provide a review of the website at the end of each visit. Each review, represented by an object of the <code>Review</code> class, consists of an integer indicating the user's rating of the website and an optional <code>String</code> comment field. The comment field in a review object ends with a period (\".\"), exclamation point (\"!\"), or letter, or is a <code>String</code> of length 0 if the user did not enter a comment."
   ]
  },
  {
   "cell_type": "markdown",
   "metadata": {},
   "source": [
    "I was happy to see that this question had only two parts (a) and (b), and I mainly used this issue I found on [github](https://gist.github.com/Gaelan/cf5ae4a1e9d8d64cb0b732cf3a38e04a). This was nice and I was able to reference this because I had no idea what this FRQ wanted. I was not sure how my group mates figured out what to do, but I was really confused and I did not know how to start. Once Mr. Mortensen said ChatGPT was allowed, I tried to use it but wasn't sure what to ask it, and then I found this "
   ]
  },
  {
   "cell_type": "code",
   "execution_count": 9,
   "metadata": {},
   "outputs": [],
   "source": [
    "import java.util.Scanner; //library for user input\n",
    "\n",
    "public class Review // Code provided by AP Exam\n",
    "{ \n",
    "    private int rating; \n",
    "    private String comment; \n",
    "    /** Precondition: r >= 0 * c is not null. */ \n",
    "    public Review(int r, String c) // Constructor for the Review class\n",
    "    { \n",
    "        rating = r; // Defines parameters\n",
    "        comment = c; \n",
    "    }\n",
    "\n",
    "    public int getRating() \n",
    "    { \n",
    "        return rating; \n",
    "    }\n",
    "    public String getComment() \n",
    "    { \n",
    "        return comment; \n",
    "    } \n",
    "    // There may be instance variables, constructors, and methods that are not shown.\n",
    "}"
   ]
  },
  {
   "cell_type": "markdown",
   "metadata": {},
   "source": [
    "## Part a"
   ]
  },
  {
   "cell_type": "code",
   "execution_count": 22,
   "metadata": {},
   "outputs": [
    {
     "ename": "CompilationException",
     "evalue": "",
     "output_type": "error",
     "traceback": [
      "\u001b[1m\u001b[30m|   \u001b[1m\u001b[30mimport \u001b[0m\u001b[1m\u001b[30m\u001b[41mjava.util.Math\u001b[0m\u001b[1m\u001b[30m;\u001b[0m",
      "\u001b[1m\u001b[31mcannot find symbol\u001b[0m",
      "\u001b[1m\u001b[31m  symbol:   class Math\u001b[0m",
      ""
     ]
    }
   ],
   "source": [
    "import java.util.Math; //library for user input\n",
    "\n",
    "public double getAverageRating()\n",
    "{\n",
    "  double totalRating = 0;\n",
    "  int numReviews = allReviews.length;\n",
    "\n",
    "  for (Review review : allReviews)\n",
    "  {\n",
    "      totalRating += review.getRating();\n",
    "  }\n",
    "\n",
    "  return totalRating / numReviews;\n",
    "}\n",
    "\n",
    "// getAverageRating.main(null);"
   ]
  },
  {
   "cell_type": "markdown",
   "metadata": {},
   "source": [
    "### Checking Answers\n",
    "I got the public double getAverageRating() and then I put the integer which was set to the value of the rating. From this, I got the first point, and I also accumalated the sum. I did access every element of the allReviews Functions, but I don't think that I actually did it right. For the third point, I was not able to compute and return the double average because I had so much trouble with Java.\n",
    "\n",
    "Points: 1/3\n"
   ]
  },
  {
   "cell_type": "code",
   "execution_count": 21,
   "metadata": {},
   "outputs": [],
   "source": [
    "public double getAverageRating() // initializes and accumalates the sum\n",
    "{\n",
    "  int sum = 0;\n",
    "\n",
    "  for (Review r : allReviews) // Used to access every element of allReviews\n",
    "  {\n",
    "      sum += r.getRating();\n",
    "  }\n",
    "\n",
    "  return (double)sum / allReviews.length; // This will compute the double average rating based on the values on getRating\n",
    "}\n",
    "\n",
    "// getAverageRating.main(null);"
   ]
  },
  {
   "cell_type": "markdown",
   "metadata": {},
   "source": [
    "## Part b"
   ]
  },
  {
   "cell_type": "code",
   "execution_count": 18,
   "metadata": {},
   "outputs": [
    {
     "ename": "CompilationException",
     "evalue": "",
     "output_type": "error",
     "traceback": [
      "\u001b[1m\u001b[30m|   \u001b[1m\u001b[30m      if (\u001b[0m\u001b[1m\u001b[30m\u001b[41mcomment\u001b[0m\u001b[1m\u001b[30m.contains(\"!\"))\u001b[0m",
      "\u001b[1m\u001b[31mcannot find symbol\u001b[0m",
      "\u001b[1m\u001b[31m  symbol:   variable comment\u001b[0m",
      "",
      "\u001b[1m\u001b[30m|   \u001b[1m\u001b[30m          formattedComments.add(\u001b[0m\u001b[1m\u001b[30m\u001b[41mi\u001b[0m\u001b[1m\u001b[30m + \"-\" + comment);\u001b[0m",
      "\u001b[1m\u001b[31mcannot find symbol\u001b[0m",
      "\u001b[1m\u001b[31m  symbol:   variable i\u001b[0m",
      "",
      "\u001b[1m\u001b[30m|   \u001b[1m\u001b[30m          formattedComments.add(i + \"-\" + \u001b[0m\u001b[1m\u001b[30m\u001b[41mcomment\u001b[0m\u001b[1m\u001b[30m);\u001b[0m",
      "\u001b[1m\u001b[31mcannot find symbol\u001b[0m",
      "\u001b[1m\u001b[31m  symbol:   variable comment\u001b[0m",
      "",
      "\u001b[1m\u001b[30m|   \u001b[1m\u001b[30m          if (!(\u001b[0m\u001b[1m\u001b[30m\u001b[41mcomment\u001b[0m\u001b[1m\u001b[30m.endsWith(\".\") || comment.endsWith(\"!\")))\u001b[0m",
      "\u001b[1m\u001b[31mcannot find symbol\u001b[0m",
      "\u001b[1m\u001b[31m  symbol:   variable comment\u001b[0m",
      "",
      "\u001b[1m\u001b[30m|   \u001b[1m\u001b[30m          if (!(comment.endsWith(\".\") || \u001b[0m\u001b[1m\u001b[30m\u001b[41mcomment\u001b[0m\u001b[1m\u001b[30m.endsWith(\"!\")))\u001b[0m",
      "\u001b[1m\u001b[31mcannot find symbol\u001b[0m",
      "\u001b[1m\u001b[31m  symbol:   variable comment\u001b[0m",
      "",
      "\u001b[1m\u001b[30m|   \u001b[1m\u001b[30mpublic ArrayList<String> collectComments() \u001b[0m\u001b[1m\u001b[30m\u001b[41m{\u001b[0m",
      "\u001b[1m\u001b[30m|   \u001b[1m\u001b[30m\u001b[41m  ArrayList<String> formattedComments = new ArrayList<>();\u001b[0m",
      "\u001b[1m\u001b[30m|   \u001b[1m\u001b[30m\u001b[41m\u001b[0m",
      "\u001b[1m\u001b[30m|   \u001b[1m\u001b[30m\u001b[41m  // for (int i = 0; i < allReviews.length; i++)\u001b[0m",
      "\u001b[1m\u001b[30m|   \u001b[1m\u001b[30m\u001b[41m  {\u001b[0m",
      "\u001b[1m\u001b[30m|   \u001b[1m\u001b[30m\u001b[41m      // String comment = allReviews[i].getComment();\u001b[0m",
      "\u001b[1m\u001b[30m|   \u001b[1m\u001b[30m\u001b[41m      if (comment.contains(\"!\"))\u001b[0m",
      "\u001b[1m\u001b[30m|   \u001b[1m\u001b[30m\u001b[41m      {\u001b[0m",
      "\u001b[1m\u001b[30m|   \u001b[1m\u001b[30m\u001b[41m          formattedComments.add(i + \"-\" + comment);\u001b[0m",
      "\u001b[1m\u001b[30m|   \u001b[1m\u001b[30m\u001b[41m\u001b[0m",
      "\u001b[1m\u001b[30m|   \u001b[1m\u001b[30m\u001b[41m          if (!(comment.endsWith(\".\") || comment.endsWith(\"!\")))\u001b[0m",
      "\u001b[1m\u001b[30m|   \u001b[1m\u001b[30m\u001b[41m          {\u001b[0m",
      "\u001b[1m\u001b[30m|   \u001b[1m\u001b[30m\u001b[41m              formattedComments.set(formattedComments.size() - 1, formattedComments.get(formattedComments.size() - 1) + \".\");\u001b[0m",
      "\u001b[1m\u001b[30m|   \u001b[1m\u001b[30m\u001b[41m          }\u001b[0m",
      "\u001b[1m\u001b[30m|   \u001b[1m\u001b[30m\u001b[41m      }\u001b[0m",
      "\u001b[1m\u001b[30m|   \u001b[1m\u001b[30m\u001b[41m  }\u001b[0m",
      "\u001b[1m\u001b[30m|   \u001b[1m\u001b[30m\u001b[41m}\u001b[0m",
      "\u001b[1m\u001b[31mmissing return statement\u001b[0m",
      ""
     ]
    }
   ],
   "source": [
    "public ArrayList<String> collectComments() {\n",
    "  ArrayList<String> formattedComments = new ArrayList<>();\n",
    "\n",
    "  // for (int i = 0; i < allReviews.length; i++)\n",
    "  {\n",
    "      // String comment = allReviews[i].getComment();\n",
    "      if (comment.contains(\"!\"))\n",
    "      {\n",
    "          formattedComments.add(i + \"-\" + comment);\n",
    "\n",
    "          if (!(comment.endsWith(\".\") || comment.endsWith(\"!\")))\n",
    "          {\n",
    "              formattedComments.set(formattedComments.size() - 1, formattedComments.get(formattedComments.size() - 1) + \".\");\n",
    "          }\n",
    "      }\n",
    "  }\n",
    "}"
   ]
  },
  {
   "cell_type": "markdown",
   "metadata": {},
   "source": [
    "### Checking Answers\n",
    "I did use ChatGPT to help me develop the ArrayList and I made the string a parameter in order to do it.\n",
    "Points: 1/9"
   ]
  },
  {
   "cell_type": "code",
   "execution_count": 20,
   "metadata": {},
   "outputs": [
    {
     "ename": "CompilationException",
     "evalue": "",
     "output_type": "error",
     "traceback": [
      "\u001b[1m\u001b[30m|   \u001b[1m\u001b[30m          if\u001b[0m\u001b[1m\u001b[30m\u001b[41m\u001b[0m\u001b[1m\u001b[30m !(last.equals(\"!\") && !last.equals(\".\"))\u001b[0m",
      "\u001b[1m\u001b[31m'(' expected\u001b[0m",
      "",
      "\u001b[1m\u001b[30m|   \u001b[1m\u001b[30m          if !(last.equals(\"!\") && !last.equals(\".\"))\u001b[0m\u001b[1m\u001b[30m\u001b[41m\u001b[0m\u001b[1m\u001b[30m\u001b[0m",
      "\u001b[1m\u001b[31m')' expected\u001b[0m",
      ""
     ]
    }
   ],
   "source": [
    "public ArrayList<String> collectComments() \n",
    "{\n",
    "  ArrayList<String> commentList = new ArrayList<String>();\n",
    "  for (int i = 0; i < allReviews.length; i++)\n",
    "  {\n",
    "      String comment = allReviews[i].getComment();\n",
    "      if (comment.indexOf(\"!\") >= 0)\n",
    "      {\n",
    "          String last =\n",
    "            comment.substring(comment.length() - 1);\n",
    "          if !(last.equals(\"!\") && !last.equals(\".\"))\n",
    "          {\n",
    "            comment += \".\";\n",
    "          }\n",
    "          commentList.add(i+ \"-\" + comment);\n",
    "      }\n",
    "  }\n",
    "  return commentList;\n",
    "}\n",
    "\n",
    "Main.main(null)"
   ]
  },
  {
   "cell_type": "markdown",
   "metadata": {},
   "source": [
    "# Major Takeaways\n",
    "- This APCSA exam is very different thant the APCSP AP Exam and that I am going to have to learn a lot more about java in order to really understand the fundamentals\n",
    "- I am going to have to really explore Java more and I should probably start LeetCode as a beginner for Java because I am not sure I quite understand Java to the extent I need it\n",
    "- I should really use ChatGPT and ask people in my group what exactly I need to do\n",
    "- From my collaboration with Toby, he really taught me how the Array List works and how it works, like how it pulls the objects defined under a specific class."
   ]
  },
  {
   "cell_type": "code",
   "execution_count": 12,
   "metadata": {},
   "outputs": [],
   "source": [
    "ArrayList<Integer> numbers = new ArrayList<Integer>();\n",
    "numbers.add(5);\n",
    "numbers.add(10);\n",
    "numbers.add(20);\n",
    "\n",
    "int firstNumber = numbers.get(0);\n",
    "int secondNumber = numbers.get(1);\n",
    "\n",
    "numbers.set(1, 15);\n",
    "numbers.remove(0);\n",
    "int size = numbers.size();\n"
   ]
  },
  {
   "cell_type": "markdown",
   "metadata": {},
   "source": [
    "### Finn 0.93/1\n",
    "- I thought he knew what he was doing and that he was very proficient in Java\n",
    "\n",
    "### Justin 0.9/1\n",
    "- He seemed to know what he was talking about during the presentation\n",
    "\n",
    "### Mati 0.9/1\n",
    "- He seemed to know what he was talking about during the presentation\n",
    "- I thought he knew what he was doing and that he was very proficient in Java\n",
    "\n",
    "### James 0.88/1\n",
    "- Explained code very well\n",
    "- He put it into one cell\n",
    "- It's a lot of work but we got through most of it"
   ]
  }
 ],
 "metadata": {
  "kernelspec": {
   "display_name": "Java",
   "language": "java",
   "name": "java"
  },
  "language_info": {
   "codemirror_mode": "java",
   "file_extension": ".jshell",
   "mimetype": "text/x-java-source",
   "name": "java",
   "pygments_lexer": "java",
   "version": "11.0.20.1+1-post-Ubuntu-0ubuntu122.04"
  },
  "orig_nbformat": 4
 },
 "nbformat": 4,
 "nbformat_minor": 2
}
