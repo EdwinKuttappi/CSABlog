{
 "cells": [
  {
   "cell_type": "markdown",
   "metadata": {},
   "source": [
    "---\n",
    "layout: post\n",
    "title: Checking FRQ's\n",
    "toc: true\n",
    "comments: true\n",
    "description: Reviewing the AP Exam FRQ's from 2022 for APCSA\n",
    "courses: { csa: {week: 4} }\n",
    "type: hacks\n",
    "---"
   ]
  },
  {
   "cell_type": "markdown",
   "metadata": {},
   "source": [
    "# 2022 FRQ Question 3\n",
    "\n",
    "3. Users of a website are asked to provide a review of the website at the end of each visit. Each review, represented by an object of the <code>Review</code> class, consists of an integer indicating the user's rating of the website and an optional <code>String</code> comment field. The comment field in a review object ends with a period (\".\"), exclamation point (\"!\"), or letter, or is a <code>String</code> of length 0 if the user did not enter a comment."
   ]
  },
  {
   "cell_type": "markdown",
   "metadata": {},
   "source": [
    "I was happy to see that this question had only two parts (a) and (b), and I mainly used this issue I found on [github](https://gist.github.com/Gaelan/cf5ae4a1e9d8d64cb0b732cf3a38e04a). This was nice and I was able to reference this because I had no idea what this FRQ wanted. I was not sure how my group mates figured out what to do, but I was really confused and I did not know how to start. Once Mr. Mortensen said ChatGPT was allowed, I tried to use it but wasn't sure what to ask it, and then I found this "
   ]
  },
  {
   "cell_type": "code",
   "execution_count": 9,
   "metadata": {
    "vscode": {
     "languageId": "java"
    }
   },
   "outputs": [],
   "source": [
    "import java.util.Scanner; //library for user input\n",
    "\n",
    "public class Review // Code provided by AP Exam\n",
    "{ \n",
    "    private int rating; \n",
    "    private String comment; \n",
    "    /** Precondition: r >= 0 * c is not null. */ \n",
    "    public Review(int r, String c) // Constructor for the Review class\n",
    "    { \n",
    "        rating = r; // Defines parameters\n",
    "        comment = c; \n",
    "    }\n",
    "\n",
    "    public int getRating() \n",
    "    { \n",
    "        return rating; \n",
    "    }\n",
    "    public String getComment() \n",
    "    { \n",
    "        return comment; \n",
    "    } \n",
    "    // There may be instance variables, constructors, and methods that are not shown.\n",
    "}"
   ]
  },
  {
   "cell_type": "markdown",
   "metadata": {},
   "source": [
    "## Part a"
   ]
  },
  {
   "cell_type": "code",
   "execution_count": 8,
   "metadata": {
    "vscode": {
     "languageId": "java"
    }
   },
   "outputs": [
    {
     "ename": "UnresolvedReferenceException",
     "evalue": "Attempt to use definition snippet with unresolved references in MethodSnippet:getAverageRating/()double-public double getAverageRating()\n{\n  double totalRating = 0;\n  int numReviews = allReviews.length;\n\n  for (Review review : allReviews)\n  {\n      totalRating += review.getRating();\n  }\n\n  return totalRating / numReviews;\n}",
     "output_type": "error",
     "traceback": [
      "\u001b[1m\u001b[30m|   \u001b[1m\u001b[30mpublic double getAverageRating()\u001b[0m",
      "\u001b[1m\u001b[30m|   \u001b[1m\u001b[30m{\u001b[0m",
      "\u001b[1m\u001b[30m|   \u001b[1m\u001b[30m  double totalRating = 0;\u001b[0m",
      "\u001b[1m\u001b[30m|   \u001b[1m\u001b[30m  int numReviews = allReviews.length;\u001b[0m",
      "\u001b[1m\u001b[30m|   \u001b[1m\u001b[30m\u001b[0m",
      "\u001b[1m\u001b[30m|   \u001b[1m\u001b[30m  for (Review review : allReviews)\u001b[0m",
      "\u001b[1m\u001b[30m|   \u001b[1m\u001b[30m  {\u001b[0m",
      "\u001b[1m\u001b[30m|   \u001b[1m\u001b[30m      totalRating += review.getRating();\u001b[0m",
      "\u001b[1m\u001b[30m|   \u001b[1m\u001b[30m  }\u001b[0m",
      "\u001b[1m\u001b[30m|   \u001b[1m\u001b[30m\u001b[0m",
      "\u001b[1m\u001b[30m|   \u001b[1m\u001b[30m  return totalRating / numReviews;\u001b[0m",
      "\u001b[1m\u001b[30m|   \u001b[1m\u001b[30m}\u001b[0m",
      "\u001b[1m\u001b[31mUnresolved dependencies:\u001b[0m",
      "\u001b[1m\u001b[31m   - variable allReviews\u001b[0m",
      "\u001b[1m\u001b[31m   - class Review\u001b[0m"
     ]
    }
   ],
   "source": [
    "public double getAverageRating()\n",
    "{\n",
    "  double totalRating = 0;\n",
    "  int numReviews = allReviews.length;\n",
    "\n",
    "  for (Review review : allReviews)\n",
    "  {\n",
    "      totalRating += review.getRating();\n",
    "  }\n",
    "\n",
    "  return totalRating / numReviews;\n",
    "}\n",
    "\n",
    "getAverageRating"
   ]
  },
  {
   "cell_type": "markdown",
   "metadata": {},
   "source": [
    "## Part a"
   ]
  },
  {
   "cell_type": "code",
   "execution_count": 5,
   "metadata": {
    "vscode": {
     "languageId": "java"
    }
   },
   "outputs": [
    {
     "ename": "CompilationException",
     "evalue": "",
     "output_type": "error",
     "traceback": [
      "\u001b[1m\u001b[30m|   \u001b[1m\u001b[30m  for (int i = 0; i < \u001b[0m\u001b[1m\u001b[30m\u001b[41mallReviews\u001b[0m\u001b[1m\u001b[30m.length; i++)\u001b[0m",
      "\u001b[1m\u001b[31mcannot find symbol\u001b[0m",
      "\u001b[1m\u001b[31m  symbol:   variable allReviews\u001b[0m",
      "",
      "\u001b[1m\u001b[30m|   \u001b[1m\u001b[30m      String comment = \u001b[0m\u001b[1m\u001b[30m\u001b[41mallReviews\u001b[0m\u001b[1m\u001b[30m[i].getComment();\u001b[0m",
      "\u001b[1m\u001b[31mcannot find symbol\u001b[0m",
      "\u001b[1m\u001b[31m  symbol:   variable allReviews\u001b[0m",
      "",
      "\u001b[1m\u001b[30m|   \u001b[1m\u001b[30mpublic ArrayList<String> collectComments() \u001b[0m\u001b[1m\u001b[30m\u001b[41m{\u001b[0m",
      "\u001b[1m\u001b[30m|   \u001b[1m\u001b[30m\u001b[41m  ArrayList<String> formattedComments = new ArrayList<>();\u001b[0m",
      "\u001b[1m\u001b[30m|   \u001b[1m\u001b[30m\u001b[41m\u001b[0m",
      "\u001b[1m\u001b[30m|   \u001b[1m\u001b[30m\u001b[41m  for (int i = 0; i < allReviews.length; i++)\u001b[0m",
      "\u001b[1m\u001b[30m|   \u001b[1m\u001b[30m\u001b[41m  {\u001b[0m",
      "\u001b[1m\u001b[30m|   \u001b[1m\u001b[30m\u001b[41m      String comment = allReviews[i].getComment();\u001b[0m",
      "\u001b[1m\u001b[30m|   \u001b[1m\u001b[30m\u001b[41m      if (comment.contains(\"!\"))\u001b[0m",
      "\u001b[1m\u001b[30m|   \u001b[1m\u001b[30m\u001b[41m      {\u001b[0m",
      "\u001b[1m\u001b[30m|   \u001b[1m\u001b[30m\u001b[41m          formattedComments.add(i + \"-\" + comment);\u001b[0m",
      "\u001b[1m\u001b[30m|   \u001b[1m\u001b[30m\u001b[41m\u001b[0m",
      "\u001b[1m\u001b[30m|   \u001b[1m\u001b[30m\u001b[41m          if (!(comment.endsWith(\".\") || comment.endsWith(\"!\")))\u001b[0m",
      "\u001b[1m\u001b[30m|   \u001b[1m\u001b[30m\u001b[41m          {\u001b[0m",
      "\u001b[1m\u001b[30m|   \u001b[1m\u001b[30m\u001b[41m              formattedComments.set(formattedComments.size() - 1, formattedComments.get(formattedComments.size() - 1) + \".\");\u001b[0m",
      "\u001b[1m\u001b[30m|   \u001b[1m\u001b[30m\u001b[41m          }\u001b[0m",
      "\u001b[1m\u001b[30m|   \u001b[1m\u001b[30m\u001b[41m      }\u001b[0m",
      "\u001b[1m\u001b[30m|   \u001b[1m\u001b[30m\u001b[41m  }\u001b[0m",
      "\u001b[1m\u001b[30m|   \u001b[1m\u001b[30m\u001b[41m}\u001b[0m",
      "\u001b[1m\u001b[31mmissing return statement\u001b[0m",
      ""
     ]
    }
   ],
   "source": [
    "public ArrayList<String> collectComments() {\n",
    "  ArrayList<String> formattedComments = new ArrayList<>();\n",
    "\n",
    "  for (int i = 0; i < allReviews.length; i++)\n",
    "  {\n",
    "      String comment = allReviews[i].getComment();\n",
    "      if (comment.contains(\"!\"))\n",
    "      {\n",
    "          formattedComments.add(i + \"-\" + comment);\n",
    "\n",
    "          if (!(comment.endsWith(\".\") || comment.endsWith(\"!\")))\n",
    "          {\n",
    "              formattedComments.set(formattedComments.size() - 1, formattedComments.get(formattedComments.size() - 1) + \".\");\n",
    "          }\n",
    "      }\n",
    "  }\n",
    "}"
   ]
  },
  {
   "cell_type": "code",
   "execution_count": null,
   "metadata": {
    "vscode": {
     "languageId": "java"
    }
   },
   "outputs": [],
   "source": []
  }
 ],
 "metadata": {
  "kernelspec": {
   "display_name": "Java",
   "language": "java",
   "name": "java"
  },
  "language_info": {
   "codemirror_mode": "java",
   "file_extension": ".jshell",
   "mimetype": "text/x-java-source",
   "name": "Java",
   "pygments_lexer": "java",
   "version": "11.0.20.1+1-post-Ubuntu-0ubuntu122.04"
  },
  "orig_nbformat": 4
 },
 "nbformat": 4,
 "nbformat_minor": 2
}
