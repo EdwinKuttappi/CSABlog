{
 "cells": [
  {
   "cell_type": "markdown",
   "metadata": {},
   "source": [
    "---\n",
    "title: What is a POJO\n",
    "description: explaining plain old java objects\n",
    "toc: true\n",
    "layout: post\n",
    "courses: { csa: {week: 20} }\n",
    "type: tangibles\n",
    "---"
   ]
  },
  {
   "cell_type": "markdown",
   "metadata": {},
   "source": [
    "## POJOS\n",
    "A POJO is the foundation for making an Entity that is turned into a Database. The Java Persistent API (JPA) allows the database to be queried and updated.\n",
    "\n",
    "An example of a POJO is Jokes.java which defines the model of the functionality"
   ]
  },
  {
   "cell_type": "code",
   "execution_count": null,
   "metadata": {
    "vscode": {
     "languageId": "java"
    }
   },
   "outputs": [],
   "source": [
    "public class Person {\n",
    "    // 3 different attributes\n",
    "    private String firstName;\n",
    "    private String lastName;\n",
    "    private int age;\n",
    "\n",
    "    public Person() { // Constructors\n",
    "    }\n",
    "\n",
    "    public Person(String firstName, String lastName, int age) {\n",
    "        this.firstName = firstName; // initializing variable\n",
    "        this.lastName = lastName; // referencing current object\n",
    "        this.age = age; // refers to the age attribute\n",
    "    }\n",
    "\n",
    "    public String getFirstName() {\n",
    "        return firstName;\n",
    "    }\n",
    "\n",
    "    public void setFirstName(String firstName) {\n",
    "        this.firstName = firstName;\n",
    "    }\n",
    "\n",
    "    public String getLastName() {\n",
    "        return lastName;\n",
    "    }\n",
    "\n",
    "    public void setLastName(String lastName) {\n",
    "        this.lastName = lastName;\n",
    "    }\n",
    "\n",
    "    public int getAge() {\n",
    "        return age;\n",
    "    }\n",
    "\n",
    "    public void setAge(int age) {\n",
    "        this.age = age;\n",
    "    }\n",
    "}"
   ]
  },
  {
   "cell_type": "markdown",
   "metadata": {},
   "source": [
    "# Example from Jokes.java"
   ]
  },
  {
   "cell_type": "code",
   "execution_count": null,
   "metadata": {
    "vscode": {
     "languageId": "java"
    }
   },
   "outputs": [],
   "source": [
    "import org.springframework.beans.factory.annotation.Autowired;\n",
    "import org.springframework.http.HttpStatus;\n",
    "import org.springframework.http.ResponseEntity;\n",
    "import org.springframework.web.bind.annotation.*;\n",
    "\n",
    "import java.util.List;\n",
    "import java.util.Optional;\n",
    "\n",
    "@RestController // annotation to simplify the creation of RESTful web services\n",
    "@RequestMapping(\"/api/jokes\")  // all requests in file begin with this URI\n",
    "public class JokesApiController {\n",
    "\n",
    "    // Autowired enables Control to connect URI request and POJO Object to easily for Database CRUD operations\n",
    "    @Autowired\n",
    "    private JokesJpaRepository repository;\n",
    "\n",
    "    /* GET List of Jokes\n",
    "     * @GetMapping annotation is used for mapping HTTP GET requests onto specific handler methods.\n",
    "     */\n",
    "    @GetMapping(\"/\")\n",
    "    public ResponseEntity<List<Jokes>> getJokes() {\n",
    "        // ResponseEntity returns List of Jokes provide by JPA findAll()\n",
    "        return new ResponseEntity<>( repository.findAll(), HttpStatus.OK);\n",
    "    }\n",
    "\n",
    "    /* Update Like\n",
    "     * @PutMapping annotation is used for mapping HTTP PUT requests onto specific handler methods.\n",
    "     */\n",
    "    @PutMapping(\"/like/{id}\")\n",
    "    public ResponseEntity<Jokes> setLike(@PathVariable long id) {\n",
    "\n",
    "        Optional<Jokes> optional = repository.findById(id);\n",
    "        if (optional.isPresent()) {  // Good ID\n",
    "            Jokes joke = optional.get();  // value from findByID\n",
    "            joke.setHaha(joke.getHaha()+1); // increment value\n",
    "            repository.save(joke);  // save entity\n",
    "            return new ResponseEntity<>(joke, HttpStatus.OK);  // OK HTTP response: status code, headers, and body\n",
    "        }\n",
    "        return new ResponseEntity<>(HttpStatus.BAD_REQUEST);  // Failed HTTP response: status code, headers, and body\n",
    "    }\n",
    "\n",
    "    @PutMapping(\"/jeer/{id}\")\n",
    "    public ResponseEntity<Jokes> setJeer(@PathVariable long id) {\n",
    "        Optional<Jokes> optional = repository.findById(id);\n",
    "        if (optional.isPresent()) {  // Good ID\n",
    "            Jokes joke = optional.get();\n",
    "            joke.setBoohoo(joke.getBoohoo()+1);\n",
    "            repository.save(joke);\n",
    "            return new ResponseEntity<>(joke, HttpStatus.OK);\n",
    "        }\n",
    "        return new ResponseEntity<>(HttpStatus.BAD_REQUEST);\n",
    "    }\n",
    "}"
   ]
  },
  {
   "cell_type": "markdown",
   "metadata": {},
   "source": [
    "## Changes to a POJO\n",
    "1. Adding Fields\n",
    "```java\n",
    "private String email; // New field\n",
    "\n",
    "// Getter and Setter for the new field\n",
    "public String getEmail() {\n",
    "    return email;\n",
    "}\n",
    "\n",
    "public void setEmail(String email) {\n",
    "    this.email = email;\n",
    "}\n",
    "```\n",
    "2. Removing Fields\n",
    "```java\n",
    "// Remove the 'age' field\n",
    "\n",
    "// Remove the getter and setter for 'age'\n",
    "\n",
    "```\n",
    "3. Modify\n",
    "```java\n",
    "private int age;\n",
    "```\n",
    "4. Adding Constructor\n",
    "```java\n",
    "public Person(String firstName, String lastName) {\n",
    "    this.firstName = firstName;\n",
    "    this.lastName = lastName;\n",
    "}\n",
    "```\n",
    "5. Update Method\n",
    "```java\n",
    "public void Test() {\n",
    "}\n",
    "```"
   ]
  }
 ],
 "metadata": {
  "language_info": {
   "name": "python"
  }
 },
 "nbformat": 4,
 "nbformat_minor": 2
}
