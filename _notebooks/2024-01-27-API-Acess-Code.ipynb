{
 "cells": [
  {
   "cell_type": "markdown",
   "metadata": {},
   "source": [
    "---\n",
    "title: API Access Code\n",
    "description: blog for api access code\n",
    "toc: true\n",
    "layout: post\n",
    "courses: { csa: {week: 20} }\n",
    "type: tangibles\n",
    "---"
   ]
  },
  {
   "cell_type": "code",
   "execution_count": null,
   "metadata": {
    "vscode": {
     "languageId": "html"
    }
   },
   "outputs": [],
   "source": [
    "<!DOCTYPE HTML>\n",
    "\n",
    "<html xmlns:layout=\"http://www.w3.org/1999/xhtml\" xmlns:th=\"http://www.w3.org/1999/xhtml\"\n",
    "      layout:decorate=\"~{layouts/base}\" lang=\"en\">\n",
    "\n",
    "<head>\n",
    "    <title>Login for JWT Hacks</title>\n",
    "</head>\n",
    "\n",
    "<body>\n",
    "\n",
    "    <th:block layout:fragment=\"body\" th:remove=\"tag\">\n",
    "\n",
    "    <div>\n",
    "    <div class=\"p-5 mb-4 bg-light text-dark rounded-3\">\n",
    "        <h1>Login</h1>\n",
    "        <label for=\"email\">Username:</label><br>\n",
    "        <input type=\"text\" id=\"username\" name=\"username\"><br>\n",
    "        <label for=\"password\">Password:</label><br>\n",
    "        <input type=\"text\" id=\"password\" name=\"password\"><br><br>\n",
    "        <input type=\"submit\" value=\"Login\" onclick=\"login()\">\n",
    "        <p id=\"message\"></p>\n",
    "    </div>\n",
    "</div>\n",
    "\n",
    "<script>\n",
    "    function login() {\n",
    "        var email = document.getElementById('username').value;\n",
    "        var password = document.getElementById('password').value;\n",
    "        var data = {email:email, password:password};\n",
    "        fetch(\"/authenticate\", {method: 'POST', headers: {'Content-Type': 'application/json'}, body: JSON.stringify(data)}).then((data) => {\n",
    "            if (data.status == 200) {\n",
    "                window.location.replace(\"/test\");\n",
    "            } else if (data.status == 401) {\n",
    "                document.getElementById('message').innerHTML = \"You do not have Permission\"\n",
    "            } else {\n",
    "                document.getElementById('message').innerHTML = \"Entered an incorrect email or password\"\n",
    "            }\n",
    "        });\n",
    "    }\n",
    "    \n",
    "</script>\n",
    "\n",
    "\n",
    "</th:block>\n",
    "</body>"
   ]
  }
 ],
 "metadata": {
  "language_info": {
   "name": "python"
  }
 },
 "nbformat": 4,
 "nbformat_minor": 2
}
