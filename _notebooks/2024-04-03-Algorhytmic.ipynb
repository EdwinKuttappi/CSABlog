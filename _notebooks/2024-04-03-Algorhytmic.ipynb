{
 "cells": [
  {
   "cell_type": "markdown",
   "metadata": {},
   "source": [
    "---\n",
    "title: Algorhytmic Blog\n",
    "layout: default\n",
    "description: blog on the algorhythimic performance done with my group JCC\n",
    "courses: { csa: {week: 28} }\n",
    "type: hacks\n",
    "---"
   ]
  },
  {
   "cell_type": "markdown",
   "metadata": {},
   "source": [
    "# Our sort\n",
    "Our sort is the selection sort in which we will be enacting a skit that will show how selection sort works"
   ]
  },
  {
   "cell_type": "markdown",
   "metadata": {},
   "source": [
    "# Dev.to\n",
    "Here is a code chunk taken directly from a link provided by Mr. Mortensen done to Dev.to. This code has been done in python and I also try to recreate in Java so that I can get it on our sorting project. Also from this website, is a gif of how the selection sort is supposed to work which helps to realize how it should be done.\n",
    "\n",
    "![selectionSort](https://res.cloudinary.com/practicaldev/image/fetch/s--j6iFl-xt--/c_limit%2Cf_auto%2Cfl_progressive%2Cq_66%2Cw_800/https://res.cloudinary.com/practicaldev/image/fetch/s--OQMj34Rc--/c_limit%252Cf_auto%252Cfl_progressive%252Cq_66%252Cw_880/https://upload.wikimedia.org/wikipedia/commons/9/94/Selection-Sort-Animation.gif)"
   ]
  },
  {
   "cell_type": "code",
   "execution_count": 7,
   "metadata": {},
   "outputs": [],
   "source": [
    "data = [0,1,2,3,4,5]\n",
    "\n",
    "def selectionSort(data):\n",
    "\n",
    "    for scanIndex in range(0, len(data)):\n",
    "\n",
    "        minIndex = scanIndex\n",
    "\n",
    "        for compIndex in range(scanIndex + 1, len(data)):\n",
    "            if data[compIndex] < data[minIndex]:\n",
    "                minIndex = compIndex\n",
    "\n",
    "        if minIndex != scanIndex:\n",
    "            data[scanIndex], data[minIndex] = data[minIndex], data[scanIndex]\n",
    "\n",
    "            print(data)"
   ]
  }
 ],
 "metadata": {
  "kernelspec": {
   "display_name": "Python 3",
   "language": "python",
   "name": "python3"
  },
  "language_info": {
   "codemirror_mode": {
    "name": "ipython",
    "version": 3
   },
   "file_extension": ".py",
   "mimetype": "text/x-python",
   "name": "python",
   "nbconvert_exporter": "python",
   "pygments_lexer": "ipython3",
   "version": "3.10.12"
  }
 },
 "nbformat": 4,
 "nbformat_minor": 2
}
